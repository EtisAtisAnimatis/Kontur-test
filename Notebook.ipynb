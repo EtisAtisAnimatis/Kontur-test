{
 "cells": [
  {
   "cell_type": "markdown",
   "id": "ce8cbf1a",
   "metadata": {},
   "source": [
    "# Kontur-test"
   ]
  },
  {
   "cell_type": "markdown",
   "id": "98c3f15d",
   "metadata": {},
   "source": [
    "### Задача: Классификация новостных заголовков на реальные и ложные."
   ]
  },
  {
   "cell_type": "markdown",
   "id": "7dab0a14",
   "metadata": {},
   "source": [
    "Импортируем необходимые библиотеки."
   ]
  },
  {
   "cell_type": "code",
   "execution_count": 1,
   "id": "65871a76",
   "metadata": {},
   "outputs": [
    {
     "name": "stderr",
     "output_type": "stream",
     "text": [
      "[nltk_data] Downloading package stopwords to\n",
      "[nltk_data]     C:\\Users\\George\\AppData\\Roaming\\nltk_data...\n",
      "[nltk_data]   Package stopwords is already up-to-date!\n",
      "[nltk_data] Downloading package punkt to\n",
      "[nltk_data]     C:\\Users\\George\\AppData\\Roaming\\nltk_data...\n",
      "[nltk_data]   Package punkt is already up-to-date!\n"
     ]
    }
   ],
   "source": [
    "from keras.layers import Embedding, LSTM, GRU, Dense, SpatialDropout1D\n",
    "from natasha import (\n",
    "    Segmenter,\n",
    "    MorphVocab,\n",
    "\n",
    "    NewsEmbedding,\n",
    "    NewsMorphTagger,\n",
    "    NewsSyntaxParser,\n",
    "    NewsNERTagger,\n",
    "\n",
    "    PER,\n",
    "    NamesExtractor,\n",
    "\n",
    "    Doc\n",
    ")\n",
    "from sklearn.metrics import classification_report\n",
    "from tensorflow.keras.optimizers import Adam\n",
    "from sklearn.model_selection import train_test_split\n",
    "from keras.initializers import Constant\n",
    "from keras.models import Sequential\n",
    "from keras.preprocessing.sequence import pad_sequences\n",
    "from keras.preprocessing.text import Tokenizer\n",
    "import numpy as np\n",
    "import seaborn as sns\n",
    "import matplotlib.pyplot as plt\n",
    "import pandas as pd\n",
    "from collections import defaultdict\n",
    "import string\n",
    "import gensim\n",
    "from tqdm import tqdm\n",
    "from nltk.tokenize import word_tokenize\n",
    "from nltk.corpus import stopwords\n",
    "import nltk\n",
    "nltk.download(\"stopwords\")\n",
    "nltk.download('punkt')\n",
    "\n",
    "\n",
    "plt.style.use('ggplot')\n",
    "\n",
    "\n",
    "russian_stopwords = stopwords.words(\"russian\")\n",
    "pd.options.display.max_colwidth = 1\n",
    "\n",
    "\n",
    "segmenter = Segmenter()\n",
    "morph_vocab = MorphVocab()\n",
    "emb = NewsEmbedding()\n",
    "morph_tagger = NewsMorphTagger(emb)\n",
    "syntax_parser = NewsSyntaxParser(emb)\n",
    "ner_tagger = NewsNERTagger(emb)\n",
    "names_extractor = NamesExtractor(morph_vocab)"
   ]
  },
  {
   "cell_type": "markdown",
   "id": "1e55baee",
   "metadata": {},
   "source": [
    "Посмотрим на данные.  "
   ]
  },
  {
   "cell_type": "code",
   "execution_count": 2,
   "id": "f8e4863f",
   "metadata": {},
   "outputs": [
    {
     "data": {
      "text/html": [
       "<div>\n",
       "<style scoped>\n",
       "    .dataframe tbody tr th:only-of-type {\n",
       "        vertical-align: middle;\n",
       "    }\n",
       "\n",
       "    .dataframe tbody tr th {\n",
       "        vertical-align: top;\n",
       "    }\n",
       "\n",
       "    .dataframe thead th {\n",
       "        text-align: right;\n",
       "    }\n",
       "</style>\n",
       "<table border=\"1\" class=\"dataframe\">\n",
       "  <thead>\n",
       "    <tr style=\"text-align: right;\">\n",
       "      <th></th>\n",
       "      <th>title</th>\n",
       "      <th>is_fake</th>\n",
       "    </tr>\n",
       "  </thead>\n",
       "  <tbody>\n",
       "    <tr>\n",
       "      <th>0</th>\n",
       "      <td>Москвичу Владимиру Клутину пришёл счёт за вмешательство в американские выборы</td>\n",
       "      <td>1</td>\n",
       "    </tr>\n",
       "    <tr>\n",
       "      <th>1</th>\n",
       "      <td>Агент Кокорина назвал езду по встречке житейской историей</td>\n",
       "      <td>0</td>\n",
       "    </tr>\n",
       "    <tr>\n",
       "      <th>2</th>\n",
       "      <td>Госдума рассмотрит возможность введения секретных статей Уголовного кодекса</td>\n",
       "      <td>1</td>\n",
       "    </tr>\n",
       "    <tr>\n",
       "      <th>3</th>\n",
       "      <td>ФАС заблокировала поставку скоростных трамваев для Москвы</td>\n",
       "      <td>0</td>\n",
       "    </tr>\n",
       "    <tr>\n",
       "      <th>4</th>\n",
       "      <td>Против Навального завели дело о недоносительстве на Волкова</td>\n",
       "      <td>1</td>\n",
       "    </tr>\n",
       "  </tbody>\n",
       "</table>\n",
       "</div>"
      ],
      "text/plain": [
       "                                                                           title  \\\n",
       "0  Москвичу Владимиру Клутину пришёл счёт за вмешательство в американские выборы   \n",
       "1  Агент Кокорина назвал езду по встречке житейской историей                       \n",
       "2  Госдума рассмотрит возможность введения секретных статей Уголовного кодекса     \n",
       "3  ФАС заблокировала поставку скоростных трамваев для Москвы                       \n",
       "4  Против Навального завели дело о недоносительстве на Волкова                     \n",
       "\n",
       "   is_fake  \n",
       "0  1        \n",
       "1  0        \n",
       "2  1        \n",
       "3  0        \n",
       "4  1        "
      ]
     },
     "execution_count": 2,
     "metadata": {},
     "output_type": "execute_result"
    }
   ],
   "source": [
    "# уже размеченные данные\n",
    "train = pd.read_csv('train.tsv', sep='\\t')\n",
    "\n",
    "# данные, которые нужно будет разметить\n",
    "test = pd.read_csv('test.tsv', sep='\\t')\n",
    "\n",
    "train.head()"
   ]
  },
  {
   "cell_type": "markdown",
   "id": "2b876f4a",
   "metadata": {},
   "source": [
    "1 - фейковая новость  \n",
    "0 - реальная новость"
   ]
  },
  {
   "cell_type": "markdown",
   "id": "9a719c87",
   "metadata": {},
   "source": [
    "Посмотрим на накоторые настоящие новостные заголовки"
   ]
  },
  {
   "cell_type": "code",
   "execution_count": 3,
   "id": "1d071416",
   "metadata": {},
   "outputs": [
    {
     "data": {
      "text/html": [
       "<div>\n",
       "<style scoped>\n",
       "    .dataframe tbody tr th:only-of-type {\n",
       "        vertical-align: middle;\n",
       "    }\n",
       "\n",
       "    .dataframe tbody tr th {\n",
       "        vertical-align: top;\n",
       "    }\n",
       "\n",
       "    .dataframe thead th {\n",
       "        text-align: right;\n",
       "    }\n",
       "</style>\n",
       "<table border=\"1\" class=\"dataframe\">\n",
       "  <thead>\n",
       "    <tr style=\"text-align: right;\">\n",
       "      <th></th>\n",
       "      <th>title</th>\n",
       "      <th>is_fake</th>\n",
       "    </tr>\n",
       "  </thead>\n",
       "  <tbody>\n",
       "    <tr>\n",
       "      <th>1</th>\n",
       "      <td>Агент Кокорина назвал езду по встречке житейской историей</td>\n",
       "      <td>0</td>\n",
       "    </tr>\n",
       "    <tr>\n",
       "      <th>3</th>\n",
       "      <td>ФАС заблокировала поставку скоростных трамваев для Москвы</td>\n",
       "      <td>0</td>\n",
       "    </tr>\n",
       "    <tr>\n",
       "      <th>7</th>\n",
       "      <td>Россияне обхитрили рост цен</td>\n",
       "      <td>0</td>\n",
       "    </tr>\n",
       "    <tr>\n",
       "      <th>8</th>\n",
       "      <td>Звезда «Ворониных» раскрыл подробности о своем состоянии</td>\n",
       "      <td>0</td>\n",
       "    </tr>\n",
       "    <tr>\n",
       "      <th>9</th>\n",
       "      <td>Microsoft объявила дату выхода очков дополненной реальности Hololens</td>\n",
       "      <td>0</td>\n",
       "    </tr>\n",
       "    <tr>\n",
       "      <th>13</th>\n",
       "      <td>Топилин провозгласил окончание зарплатного кризиса в России</td>\n",
       "      <td>0</td>\n",
       "    </tr>\n",
       "    <tr>\n",
       "      <th>14</th>\n",
       "      <td>Режиссера Алексея Германа наградили орденом</td>\n",
       "      <td>0</td>\n",
       "    </tr>\n",
       "    <tr>\n",
       "      <th>18</th>\n",
       "      <td>Энтони Андерсон стал молодым папашей</td>\n",
       "      <td>0</td>\n",
       "    </tr>\n",
       "    <tr>\n",
       "      <th>20</th>\n",
       "      <td>Ubisoft анонсировала новую часть игры Ghost Recon</td>\n",
       "      <td>0</td>\n",
       "    </tr>\n",
       "    <tr>\n",
       "      <th>21</th>\n",
       "      <td>На Байконуре сломали малайзийский спутник</td>\n",
       "      <td>0</td>\n",
       "    </tr>\n",
       "  </tbody>\n",
       "</table>\n",
       "</div>"
      ],
      "text/plain": [
       "                                                                   title  \\\n",
       "1   Агент Кокорина назвал езду по встречке житейской историей              \n",
       "3   ФАС заблокировала поставку скоростных трамваев для Москвы              \n",
       "7   Россияне обхитрили рост цен                                            \n",
       "8   Звезда «Ворониных» раскрыл подробности о своем состоянии               \n",
       "9   Microsoft объявила дату выхода очков дополненной реальности Hololens   \n",
       "13  Топилин провозгласил окончание зарплатного кризиса в России            \n",
       "14  Режиссера Алексея Германа наградили орденом                            \n",
       "18  Энтони Андерсон стал молодым папашей                                   \n",
       "20  Ubisoft анонсировала новую часть игры Ghost Recon                      \n",
       "21  На Байконуре сломали малайзийский спутник                              \n",
       "\n",
       "    is_fake  \n",
       "1   0        \n",
       "3   0        \n",
       "7   0        \n",
       "8   0        \n",
       "9   0        \n",
       "13  0        \n",
       "14  0        \n",
       "18  0        \n",
       "20  0        \n",
       "21  0        "
      ]
     },
     "execution_count": 3,
     "metadata": {},
     "output_type": "execute_result"
    }
   ],
   "source": [
    "train[train.is_fake == 0].head(10)"
   ]
  },
  {
   "cell_type": "markdown",
   "id": "6fdeaf9a",
   "metadata": {},
   "source": [
    "Теперь на фейковые."
   ]
  },
  {
   "cell_type": "code",
   "execution_count": 4,
   "id": "0c58f570",
   "metadata": {},
   "outputs": [
    {
     "data": {
      "text/html": [
       "<div>\n",
       "<style scoped>\n",
       "    .dataframe tbody tr th:only-of-type {\n",
       "        vertical-align: middle;\n",
       "    }\n",
       "\n",
       "    .dataframe tbody tr th {\n",
       "        vertical-align: top;\n",
       "    }\n",
       "\n",
       "    .dataframe thead th {\n",
       "        text-align: right;\n",
       "    }\n",
       "</style>\n",
       "<table border=\"1\" class=\"dataframe\">\n",
       "  <thead>\n",
       "    <tr style=\"text-align: right;\">\n",
       "      <th></th>\n",
       "      <th>title</th>\n",
       "      <th>is_fake</th>\n",
       "    </tr>\n",
       "  </thead>\n",
       "  <tbody>\n",
       "    <tr>\n",
       "      <th>0</th>\n",
       "      <td>Москвичу Владимиру Клутину пришёл счёт за вмешательство в американские выборы</td>\n",
       "      <td>1</td>\n",
       "    </tr>\n",
       "    <tr>\n",
       "      <th>2</th>\n",
       "      <td>Госдума рассмотрит возможность введения секретных статей Уголовного кодекса</td>\n",
       "      <td>1</td>\n",
       "    </tr>\n",
       "    <tr>\n",
       "      <th>4</th>\n",
       "      <td>Против Навального завели дело о недоносительстве на Волкова</td>\n",
       "      <td>1</td>\n",
       "    </tr>\n",
       "    <tr>\n",
       "      <th>5</th>\n",
       "      <td>Российским студентам запретят учиться за рубежом</td>\n",
       "      <td>1</td>\n",
       "    </tr>\n",
       "    <tr>\n",
       "      <th>6</th>\n",
       "      <td>Путин пишет книгу об истории Украины</td>\n",
       "      <td>1</td>\n",
       "    </tr>\n",
       "    <tr>\n",
       "      <th>10</th>\n",
       "      <td>Марат Хуснуллин призвал прописать в законе понятие многонационального дома</td>\n",
       "      <td>1</td>\n",
       "    </tr>\n",
       "    <tr>\n",
       "      <th>11</th>\n",
       "      <td>Для проведения профилактических работ с 15 по 19 сентября в России отключат интернет</td>\n",
       "      <td>1</td>\n",
       "    </tr>\n",
       "    <tr>\n",
       "      <th>12</th>\n",
       "      <td>В России введут обязательный техосмотр садового инвентаря</td>\n",
       "      <td>1</td>\n",
       "    </tr>\n",
       "    <tr>\n",
       "      <th>15</th>\n",
       "      <td>Олаф Шольц: «Дед рассказывал, какие вкусные на Украине куры, молоко и яйца»</td>\n",
       "      <td>1</td>\n",
       "    </tr>\n",
       "    <tr>\n",
       "      <th>16</th>\n",
       "      <td>Беглов: «Петербург был основан до нашей эры, он на полторы тысячи лет старше Москвы»</td>\n",
       "      <td>1</td>\n",
       "    </tr>\n",
       "  </tbody>\n",
       "</table>\n",
       "</div>"
      ],
      "text/plain": [
       "                                                                                   title  \\\n",
       "0   Москвичу Владимиру Клутину пришёл счёт за вмешательство в американские выборы          \n",
       "2   Госдума рассмотрит возможность введения секретных статей Уголовного кодекса            \n",
       "4   Против Навального завели дело о недоносительстве на Волкова                            \n",
       "5   Российским студентам запретят учиться за рубежом                                       \n",
       "6   Путин пишет книгу об истории Украины                                                   \n",
       "10  Марат Хуснуллин призвал прописать в законе понятие многонационального дома             \n",
       "11  Для проведения профилактических работ с 15 по 19 сентября в России отключат интернет   \n",
       "12  В России введут обязательный техосмотр садового инвентаря                              \n",
       "15  Олаф Шольц: «Дед рассказывал, какие вкусные на Украине куры, молоко и яйца»            \n",
       "16  Беглов: «Петербург был основан до нашей эры, он на полторы тысячи лет старше Москвы»   \n",
       "\n",
       "    is_fake  \n",
       "0   1        \n",
       "2   1        \n",
       "4   1        \n",
       "5   1        \n",
       "6   1        \n",
       "10  1        \n",
       "11  1        \n",
       "12  1        \n",
       "15  1        \n",
       "16  1        "
      ]
     },
     "execution_count": 4,
     "metadata": {},
     "output_type": "execute_result"
    }
   ],
   "source": [
    "train[train.is_fake == 1].head(10)"
   ]
  },
  {
   "cell_type": "code",
   "execution_count": 5,
   "id": "6ad2d189",
   "metadata": {},
   "outputs": [
    {
     "data": {
      "text/plain": [
       "(5758, 2)"
      ]
     },
     "execution_count": 5,
     "metadata": {},
     "output_type": "execute_result"
    }
   ],
   "source": [
    "train.shape"
   ]
  },
  {
   "cell_type": "code",
   "execution_count": 6,
   "id": "953e5e30",
   "metadata": {},
   "outputs": [
    {
     "data": {
      "text/plain": [
       "(1000, 2)"
      ]
     },
     "execution_count": 6,
     "metadata": {},
     "output_type": "execute_result"
    }
   ],
   "source": [
    "test.shape"
   ]
  },
  {
   "cell_type": "markdown",
   "id": "eff0c325",
   "metadata": {},
   "source": [
    "Посмотрим на количество примеров класса 0 и 1 в данных"
   ]
  },
  {
   "cell_type": "code",
   "execution_count": 7,
   "id": "83d0655d",
   "metadata": {},
   "outputs": [
    {
     "data": {
      "text/plain": [
       "1    2879\n",
       "0    2879\n",
       "Name: is_fake, dtype: int64"
      ]
     },
     "execution_count": 7,
     "metadata": {},
     "output_type": "execute_result"
    }
   ],
   "source": [
    "train.is_fake.value_counts()"
   ]
  },
  {
   "cell_type": "markdown",
   "id": "ebe87dd1",
   "metadata": {},
   "source": [
    "Для дальнейшего анализа объеденим train и test"
   ]
  },
  {
   "cell_type": "code",
   "execution_count": 8,
   "id": "e09ba363",
   "metadata": {},
   "outputs": [],
   "source": [
    "df = pd.concat([train, test])"
   ]
  },
  {
   "cell_type": "markdown",
   "id": "8abac368",
   "metadata": {},
   "source": [
    "#### Посмотрим какие стоп-слова встречаются в данных."
   ]
  },
  {
   "cell_type": "code",
   "execution_count": 9,
   "id": "c650317a",
   "metadata": {},
   "outputs": [],
   "source": [
    "def create_corpus(data):\n",
    "    \"\"\"Функция, которая создает массив всех слов в датафрейме\"\"\"\n",
    "    words = []\n",
    "    for x in df['title'].str.split():\n",
    "        for i in x:\n",
    "            words.append(i)\n",
    "    return words"
   ]
  },
  {
   "cell_type": "code",
   "execution_count": 10,
   "id": "bafba0ff",
   "metadata": {},
   "outputs": [],
   "source": [
    "corpus = create_corpus(df)\n",
    "dic = defaultdict(int)\n",
    "\n",
    "for word in corpus:\n",
    "    if word in russian_stopwords:\n",
    "        dic[word] += 1\n",
    "\n",
    "top = sorted(dic.items(), key=lambda x: x[1], reverse=True)[:30]"
   ]
  },
  {
   "cell_type": "code",
   "execution_count": 11,
   "id": "51829312",
   "metadata": {},
   "outputs": [
    {
     "data": {
      "image/png": "[encoded data removed]",
      "text/plain": [
       "<Figure size 1224x432 with 1 Axes>"
      ]
     },
     "metadata": {},
     "output_type": "display_data"
    }
   ],
   "source": [
    "x, y = zip(*top)\n",
    "\n",
    "fig, ax = plt.subplots()\n",
    "\n",
    "ax.bar(x, y)\n",
    "\n",
    "fig.set_figwidth(17)  # ширина Figure\n",
    "fig.set_figheight(6)  # высота Figure\n",
    "\n",
    "plt.show()"
   ]
  },
  {
   "cell_type": "markdown",
   "id": "b13df52c",
   "metadata": {},
   "source": [
    "Посмотрим какие знаки пунктуации содержатся в данных"
   ]
  },
  {
   "cell_type": "code",
   "execution_count": 12,
   "id": "fe767595",
   "metadata": {},
   "outputs": [
    {
     "data": {
      "text/plain": [
       "<Figure size 720x360 with 0 Axes>"
      ]
     },
     "metadata": {},
     "output_type": "display_data"
    }
   ],
   "source": [
    "plt.figure(figsize=(10, 5))\n",
    "corpus = create_corpus(df)\n",
    "\n",
    "dic = defaultdict(int)\n",
    "special = string.punctuation + \"»\" + '«' + \"°\"\n",
    "for i in range(len(corpus)):\n",
    "    for punkt in special:\n",
    "        if punkt in corpus[i]:\n",
    "            dic[punkt] += 1"
   ]
  },
  {
   "cell_type": "code",
   "execution_count": 13,
   "id": "b4ab09f6",
   "metadata": {},
   "outputs": [
    {
     "data": {
      "text/plain": [
       "<BarContainer object of 21 artists>"
      ]
     },
     "execution_count": 13,
     "metadata": {},
     "output_type": "execute_result"
    },
    {
     "data": {
      "image/png": "[encoded data removed]",
      "text/plain": [
       "<Figure size 432x288 with 1 Axes>"
      ]
     },
     "metadata": {},
     "output_type": "display_data"
    }
   ],
   "source": [
    "top = sorted(dic.items(), key=lambda x: x[1], reverse=True)\n",
    "x, y = zip(*top)\n",
    "plt.bar(x, y)"
   ]
  },
  {
   "cell_type": "code",
   "execution_count": 14,
   "id": "88676984",
   "metadata": {},
   "outputs": [],
   "source": [
    "def remove_punct(line):\n",
    "    spatial = string.punctuation + \"»\" + '«' + \"°\"\n",
    "    for p in spatial:\n",
    "        if p in line:\n",
    "            if (p == '-' or p == '°') and len(line) > 1:\n",
    "                line = line.replace(p, ' ')\n",
    "            else:\n",
    "                line = line.replace(p, '')\n",
    "    return line"
   ]
  },
  {
   "cell_type": "code",
   "execution_count": 15,
   "id": "eead9e58",
   "metadata": {},
   "outputs": [
    {
     "data": {
      "text/plain": [
       "'Hello world'"
      ]
     },
     "execution_count": 15,
     "metadata": {},
     "output_type": "execute_result"
    }
   ],
   "source": [
    "remove_punct(\"Hello!$@-world«!»\")"
   ]
  },
  {
   "cell_type": "markdown",
   "id": "c0c1a3f5",
   "metadata": {},
   "source": [
    "## Предобработка. Этап 1.\n",
    "### Первичная предобработка будет содержать следующие пункты:  \n",
    "1) Приведение текста к нижнему регистру  \n",
    "2) Удаление пунктуации  \n",
    "3) Удаление стоп-слов  "
   ]
  },
  {
   "cell_type": "code",
   "execution_count": 16,
   "id": "13bc53c0",
   "metadata": {},
   "outputs": [],
   "source": [
    "def preprocess(data):\n",
    "    \"\"\"data должен иметь тип  pandas.core.frame.DataFrame\"\"\"\n",
    "\n",
    "    # удаление пунктуации\n",
    "    data['title'] = data['title'].apply(lambda x: remove_punct(x))\n",
    "\n",
    "    # удаление стоп-слов, цифр, привидение к нижнему регистру\n",
    "    corpus = []\n",
    "    for train in tqdm(data['title']):\n",
    "        words = [word.lower() for word in word_tokenize(train)\n",
    "                 if ((word.isalpha() == 1) and (word not in russian_stopwords) and (len(word) > 3))]\n",
    "        corpus.append(words)\n",
    "    return corpus"
   ]
  },
  {
   "cell_type": "markdown",
   "id": "a2555377",
   "metadata": {},
   "source": [
    "Посчитаем максимальную длинну заголовка"
   ]
  },
  {
   "cell_type": "code",
   "execution_count": 17,
   "id": "0de6a4ad",
   "metadata": {},
   "outputs": [
    {
     "name": "stderr",
     "output_type": "stream",
     "text": [
      "100%|██████████| 6758/6758 [00:01<00:00, 6241.96it/s]\n"
     ]
    }
   ],
   "source": [
    "corpus = preprocess(df)"
   ]
  },
  {
   "cell_type": "code",
   "execution_count": 18,
   "id": "940331c3",
   "metadata": {},
   "outputs": [
    {
     "data": {
      "text/plain": [
       "['москвичу',\n",
       " 'владимиру',\n",
       " 'клутину',\n",
       " 'пришёл',\n",
       " 'счёт',\n",
       " 'вмешательство',\n",
       " 'американские',\n",
       " 'выборы']"
      ]
     },
     "execution_count": 18,
     "metadata": {},
     "output_type": "execute_result"
    }
   ],
   "source": [
    "corpus[0]"
   ]
  },
  {
   "cell_type": "code",
   "execution_count": 19,
   "id": "f0a6717d",
   "metadata": {},
   "outputs": [
    {
     "name": "stdout",
     "output_type": "stream",
     "text": [
      "Максимальная длинна заголовка =  20\n"
     ]
    }
   ],
   "source": [
    "MAX_LEN = 0\n",
    "for i in range(len(corpus)):\n",
    "    if len(corpus[i]) > MAX_LEN:\n",
    "        MAX_LEN = len(corpus[i])\n",
    "print(\"Максимальная длинна заголовка = \", MAX_LEN)"
   ]
  },
  {
   "cell_type": "markdown",
   "id": "302fe0ed",
   "metadata": {},
   "source": [
    "Построим гистограмму количеств слов в фейковых заголовках."
   ]
  },
  {
   "cell_type": "code",
   "execution_count": 20,
   "id": "b97c3b9c",
   "metadata": {},
   "outputs": [
    {
     "name": "stderr",
     "output_type": "stream",
     "text": [
      "100%|██████████| 5758/5758 [00:00<00:00, 7290.13it/s]\n"
     ]
    }
   ],
   "source": [
    "corpus = preprocess(train)"
   ]
  },
  {
   "cell_type": "code",
   "execution_count": 21,
   "id": "425780c9",
   "metadata": {},
   "outputs": [],
   "source": [
    "dic_false = defaultdict(int)\n",
    "\n",
    "for i in range(len(corpus)):\n",
    "    if train['is_fake'][i] == 1:\n",
    "        dic_false[len(corpus[i])] += 1"
   ]
  },
  {
   "cell_type": "code",
   "execution_count": 22,
   "id": "b8a61774",
   "metadata": {},
   "outputs": [
    {
     "data": {
      "text/plain": [
       "<BarContainer object of 21 artists>"
      ]
     },
     "execution_count": 22,
     "metadata": {},
     "output_type": "execute_result"
    },
    {
     "data": {
      "image/png": "[encoded data removed]",
      "text/plain": [
       "<Figure size 432x288 with 1 Axes>"
      ]
     },
     "metadata": {},
     "output_type": "display_data"
    }
   ],
   "source": [
    "x = []\n",
    "y = []\n",
    "for i in range(MAX_LEN+1):\n",
    "    x.append(str(i))\n",
    "    y.append(dic_false[i])\n",
    "plt.bar(x, y, color = '#FF4500')"
   ]
  },
  {
   "cell_type": "markdown",
   "id": "0a87b477",
   "metadata": {},
   "source": [
    "Построим гистограмму количеств слов в правдивых заголовках."
   ]
  },
  {
   "cell_type": "code",
   "execution_count": 23,
   "id": "af0ee2a0",
   "metadata": {},
   "outputs": [],
   "source": [
    "dic_true = defaultdict(int)\n",
    "\n",
    "for i in range(len(corpus)):\n",
    "    if train['is_fake'][i] == 0:\n",
    "        dic_true[len(corpus[i])] += 1"
   ]
  },
  {
   "cell_type": "code",
   "execution_count": 24,
   "id": "11aba0fa",
   "metadata": {},
   "outputs": [
    {
     "data": {
      "text/plain": [
       "<BarContainer object of 21 artists>"
      ]
     },
     "execution_count": 24,
     "metadata": {},
     "output_type": "execute_result"
    },
    {
     "data": {
      "image/png": "[encoded data removed]",
      "text/plain": [
       "<Figure size 432x288 with 1 Axes>"
      ]
     },
     "metadata": {},
     "output_type": "display_data"
    }
   ],
   "source": [
    "x = []\n",
    "y = []\n",
    "for i in range(MAX_LEN+1):\n",
    "    x.append(str(i))\n",
    "    y.append(dic_true[i])\n",
    "plt.bar(x, y, color = '#0000FF')"
   ]
  },
  {
   "cell_type": "markdown",
   "id": "531c1237",
   "metadata": {},
   "source": [
    "Теперь совместим две гистограммы."
   ]
  },
  {
   "cell_type": "code",
   "execution_count": 25,
   "id": "96bbfb59",
   "metadata": {},
   "outputs": [
    {
     "data": {
      "text/plain": [
       "<BarContainer object of 21 artists>"
      ]
     },
     "execution_count": 25,
     "metadata": {},
     "output_type": "execute_result"
    },
    {
     "data": {
      "image/png": "[encoded data removed]",
      "text/plain": [
       "<Figure size 432x288 with 1 Axes>"
      ]
     },
     "metadata": {},
     "output_type": "display_data"
    }
   ],
   "source": [
    "x = []\n",
    "y_true = []\n",
    "y_false = []\n",
    "for i in range(MAX_LEN+1):\n",
    "    x.append(str(i))\n",
    "    y_true.append(dic_true[i])\n",
    "    y_false.append(dic_false[i])\n",
    "plt.bar(x, y_true, alpha = 0.5, color = '#0000FF')\n",
    "plt.bar(x, y_false, alpha = 0.5, color = '#FF4500')"
   ]
  },
  {
   "cell_type": "markdown",
   "id": "c0eb0694",
   "metadata": {},
   "source": [
    "В правдивых заголовках количество слов в среднем меньше, поэтому имеет смысл добавить длинну предложения в качестве признака."
   ]
  },
  {
   "cell_type": "markdown",
   "id": "5ef98887",
   "metadata": {},
   "source": [
    "Оценим кол-во знакомых слов."
   ]
  },
  {
   "cell_type": "code",
   "execution_count": 26,
   "id": "0966b1ab",
   "metadata": {},
   "outputs": [
    {
     "name": "stdout",
     "output_type": "stream",
     "text": [
      "Количество знакомых слов:  16870\n",
      "Количество незнакомых слов:  997\n"
     ]
    }
   ],
   "source": [
    "corpus_known = []\n",
    "corpus_unknown = []\n",
    "\n",
    "for i in range(len(corpus)):\n",
    "    for word in corpus[i]:\n",
    "        if word in emb:\n",
    "            corpus_known.append(word)\n",
    "        else:\n",
    "            if word[0:-1:1] in emb:\n",
    "                corpus_known.append(word[0:-1:1])\n",
    "            elif word[0:-2:1] in emb:\n",
    "                corpus_known.append(word[0:-2:1])\n",
    "            else:\n",
    "                corpus_unknown.append(word)\n",
    "\n",
    "unknown = len(set(corpus_unknown))\n",
    "print(\"Количество знакомых слов: \", len(set(corpus_known)))\n",
    "print(\"Количество незнакомых слов: \", len(set(corpus_unknown)))"
   ]
  },
  {
   "cell_type": "markdown",
   "id": "69316c6a",
   "metadata": {},
   "source": [
    "Теперь попробуем поставить слова в начальную форму, используя библиотеку наташа\n"
   ]
  },
  {
   "cell_type": "code",
   "execution_count": 27,
   "id": "ace2632b",
   "metadata": {},
   "outputs": [
    {
     "name": "stdout",
     "output_type": "stream",
     "text": [
      "Итоговое кол-во незнакомых слов:  700\n",
      "Итоговое кол-во знакомых слов:  17386\n"
     ]
    }
   ],
   "source": [
    "df.index = np.arange(len(df))\n",
    "\n",
    "for i in range(len(corpus_unknown)):\n",
    "    corpus_unknown[i] = Doc(corpus_unknown[i])\n",
    "\n",
    "corpus_lemms = []\n",
    "\n",
    "for i in range(len(corpus_unknown)):\n",
    "    corpus_unknown[i].segment(segmenter)\n",
    "    corpus_unknown[i].tag_morph(morph_tagger)\n",
    "    corpus_unknown[i].tokens[0].lemmatize(morph_vocab)\n",
    "    corpus_lemms.append(corpus_unknown[i].tokens[0].lemma)\n",
    "\n",
    "    \n",
    "known = 0\n",
    "for i in range(len(corpus_lemms)):\n",
    "    if corpus_lemms[i] in emb:\n",
    "        known += 1\n",
    "        corpus_known.append(corpus_lemms[i])\n",
    "    elif corpus_lemms[i][0:-1:1] in emb:\n",
    "        known += 1\n",
    "        corpus_known.append(corpus_lemms[i][0:-1:1])\n",
    "    elif corpus_lemms[i][0:-2:1] in emb:\n",
    "        known += 1\n",
    "        corpus_known.append(corpus_lemms[i][0:-2:1])\n",
    "                            \n",
    "print(\"Итоговое кол-во незнакомых слов: \", unknown - known)\n",
    "print(\"Итоговое кол-во знакомых слов: \", len(set(corpus_known)) + known)"
   ]
  },
  {
   "cell_type": "markdown",
   "id": "199d2053",
   "metadata": {},
   "source": [
    "## Препроцессинг. Этап 2.\n",
    "\n",
    "1) Создание матрицы эмбедингов  \n",
    "2) Добавление длинны предложения как признака   \n",
    "  \n",
    "  \n",
    "В планах:  \n",
    "1)Добавить максимальную разность норм слов как признак  \n",
    "2)Выкинуть предложения, где много неизвестных слов (>50%)"
   ]
  },
  {
   "cell_type": "code",
   "execution_count": 42,
   "id": "af489d3d",
   "metadata": {},
   "outputs": [],
   "source": [
    "def generate_pad_word_index(data, max_len):\n",
    "    corpus = preprocess(data)\n",
    "\n",
    "    tokenizer_obj = Tokenizer()\n",
    "    tokenizer_obj.fit_on_texts(corpus)\n",
    "    sequences = tokenizer_obj.texts_to_sequences(corpus)\n",
    "\n",
    "    pad = pad_sequences(sequences, maxlen = max_len,\n",
    "                        truncating = 'post', padding = 'post')            \n",
    "    return pad, tokenizer_obj.word_index"
   ]
  },
  {
   "cell_type": "code",
   "execution_count": 43,
   "id": "6e4031d7",
   "metadata": {},
   "outputs": [],
   "source": [
    "def create_emb_cnt_words(data, MAX_LEN):\n",
    "    padding, word_index = generate_pad_word_index(data, MAX_LEN)\n",
    "\n",
    "    num_words = len(word_index)+1\n",
    "    embedding = np.zeros((num_words, 300))\n",
    "\n",
    "    for word, i in tqdm(word_index.items()):\n",
    "        if i > num_words:\n",
    "            continue\n",
    "\n",
    "        if word in emb:\n",
    "            embedding[i] = emb[word]\n",
    "        elif word[0:-1:1] in emb:\n",
    "            embedding[i] = emb[word[0:-1:1]]\n",
    "        elif word[0:-2:1] in emb:\n",
    "            embedding[i] = emb[word[0:-2:1]]\n",
    "        else:\n",
    "            word = Doc(word)\n",
    "            word.segment(segmenter)\n",
    "            word.tag_morph(morph_tagger)\n",
    "            word.tokens[0].lemmatize(morph_vocab)\n",
    "            if word.tokens[0].lemma in emb:\n",
    "                embedding[i] = emb[word.tokens[0].lemma]\n",
    "            elif word.tokens[0].lemma[0:-1:1] in emb:\n",
    "                embedding[i] = emb[word.tokens[0].lemma[0:-1:1]]\n",
    "            elif word.tokens[0].lemma[0:-2:1] in emb:\n",
    "                embedding[i] = emb[word.tokens[0].lemma[0:-2:1]]\n",
    "            else:\n",
    "                embedding[i] = emb['<unk>']\n",
    "\n",
    "    return embedding, num_words"
   ]
  },
  {
   "cell_type": "code",
   "execution_count": 44,
   "id": "668b41e0",
   "metadata": {},
   "outputs": [
    {
     "name": "stderr",
     "output_type": "stream",
     "text": [
      "100%|██████████| 5758/5758 [00:00<00:00, 6497.32it/s]\n",
      "100%|██████████| 17932/17932 [00:01<00:00, 14620.60it/s]\n"
     ]
    }
   ],
   "source": [
    "model = Sequential()\n",
    "embedding_matrix, cnt_words = create_emb_cnt_words(train, 20)\n",
    "\n",
    "embedding = Embedding(cnt_words, 300, embeddings_initializer=Constant(embedding_matrix),\n",
    "                      input_length=MAX_LEN, trainable=False)\n",
    "\n",
    "model.add(embedding)\n",
    "model.add(SpatialDropout1D(0.2))\n",
    "model.add(LSTM(64, dropout=0.2, recurrent_dropout=0.2,\n",
    "          kernel_initializer='glorot_uniform'))\n",
    "model.add(Dense(1, activation='sigmoid'))\n",
    "\n",
    "\n",
    "optimzer = Adam(learning_rate=1e-5)\n",
    "\n",
    "model.compile(loss='binary_crossentropy',\n",
    "              optimizer=optimzer, metrics=['accuracy'])"
   ]
  },
  {
   "cell_type": "code",
   "execution_count": 45,
   "id": "bc676bc9",
   "metadata": {},
   "outputs": [
    {
     "name": "stdout",
     "output_type": "stream",
     "text": [
      "Model: \"sequential_1\"\n",
      "_________________________________________________________________\n",
      " Layer (type)                Output Shape              Param #   \n",
      "=================================================================\n",
      " embedding_1 (Embedding)     (None, 20, 300)           5379900   \n",
      "                                                                 \n",
      " spatial_dropout1d_1 (Spatia  (None, 20, 300)          0         \n",
      " lDropout1D)                                                     \n",
      "                                                                 \n",
      " lstm_1 (LSTM)               (None, 64)                93440     \n",
      "                                                                 \n",
      " dense_1 (Dense)             (None, 1)                 65        \n",
      "                                                                 \n",
      "=================================================================\n",
      "Total params: 5,473,405\n",
      "Trainable params: 93,505\n",
      "Non-trainable params: 5,379,900\n",
      "_________________________________________________________________\n"
     ]
    }
   ],
   "source": [
    "model.summary()"
   ]
  },
  {
   "cell_type": "code",
   "execution_count": 46,
   "id": "28afbaaa",
   "metadata": {},
   "outputs": [
    {
     "name": "stderr",
     "output_type": "stream",
     "text": [
      "100%|██████████| 5758/5758 [00:00<00:00, 5806.69it/s]\n"
     ]
    }
   ],
   "source": [
    "pad, num = generate_pad_word_index(train, MAX_LEN)"
   ]
  },
  {
   "cell_type": "code",
   "execution_count": 48,
   "id": "c6cb18c0",
   "metadata": {},
   "outputs": [
    {
     "name": "stdout",
     "output_type": "stream",
     "text": [
      "Shape of train (4606, 20)\n",
      "Shape of Validation  (1152, 20)\n"
     ]
    }
   ],
   "source": [
    "X_train, X_test, y_train, y_test = train_test_split(pad ,train['is_fake'].values, test_size=0.2)\n",
    "print('Shape of train',X_train.shape)\n",
    "print(\"Shape of Validation \",X_test.shape)"
   ]
  },
  {
   "cell_type": "code",
   "execution_count": 49,
   "id": "07ec4a59",
   "metadata": {},
   "outputs": [
    {
     "name": "stdout",
     "output_type": "stream",
     "text": [
      "922/922 - 15s - loss: 0.6910 - accuracy: 0.5504 - val_loss: 0.6877 - val_accuracy: 0.6024 - 15s/epoch - 16ms/step\n"
     ]
    }
   ],
   "source": [
    "history=model.fit(X_train,y_train,batch_size=5,epochs=1,validation_data=(X_test,y_test),verbose=2)"
   ]
  },
  {
   "cell_type": "code",
   "execution_count": 59,
   "id": "cd235b37",
   "metadata": {
    "scrolled": true
   },
   "outputs": [
    {
     "name": "stdout",
     "output_type": "stream",
     "text": [
      "Epoch 1/500\n",
      "308/308 [==============================] - 5s 15ms/step - loss: 0.2159 - accuracy: 0.9123 - val_loss: 0.2932 - val_accuracy: 0.8785\n",
      "Epoch 2/500\n",
      "308/308 [==============================] - 5s 16ms/step - loss: 0.2114 - accuracy: 0.9171 - val_loss: 0.2935 - val_accuracy: 0.8767\n",
      "Epoch 3/500\n",
      "308/308 [==============================] - 5s 15ms/step - loss: 0.2176 - accuracy: 0.9138 - val_loss: 0.2928 - val_accuracy: 0.8759\n",
      "Epoch 4/500\n",
      "308/308 [==============================] - 5s 16ms/step - loss: 0.2231 - accuracy: 0.9097 - val_loss: 0.2918 - val_accuracy: 0.8759\n",
      "Epoch 5/500\n",
      "308/308 [==============================] - 5s 15ms/step - loss: 0.2203 - accuracy: 0.9127 - val_loss: 0.2911 - val_accuracy: 0.8802\n",
      "Epoch 6/500\n",
      "308/308 [==============================] - 5s 18ms/step - loss: 0.2168 - accuracy: 0.9134 - val_loss: 0.2929 - val_accuracy: 0.8750\n",
      "Epoch 7/500\n",
      "308/308 [==============================] - 5s 16ms/step - loss: 0.2181 - accuracy: 0.9075 - val_loss: 0.2922 - val_accuracy: 0.8793\n",
      "Epoch 8/500\n",
      "308/308 [==============================] - 5s 18ms/step - loss: 0.2176 - accuracy: 0.9134 - val_loss: 0.2933 - val_accuracy: 0.8785\n",
      "Epoch 9/500\n",
      "308/308 [==============================] - 6s 18ms/step - loss: 0.2103 - accuracy: 0.9162 - val_loss: 0.2915 - val_accuracy: 0.8811\n",
      "Epoch 10/500\n",
      "308/308 [==============================] - 5s 16ms/step - loss: 0.2205 - accuracy: 0.9110 - val_loss: 0.2911 - val_accuracy: 0.8811\n",
      "Epoch 11/500\n",
      "308/308 [==============================] - 5s 16ms/step - loss: 0.2108 - accuracy: 0.9155 - val_loss: 0.2951 - val_accuracy: 0.8776\n",
      "Epoch 12/500\n",
      "308/308 [==============================] - 6s 19ms/step - loss: 0.2154 - accuracy: 0.9147 - val_loss: 0.2928 - val_accuracy: 0.8793\n",
      "Epoch 13/500\n",
      "308/308 [==============================] - 6s 18ms/step - loss: 0.2132 - accuracy: 0.9132 - val_loss: 0.2920 - val_accuracy: 0.8776\n",
      "Epoch 14/500\n",
      "308/308 [==============================] - 6s 18ms/step - loss: 0.2019 - accuracy: 0.9197 - val_loss: 0.2915 - val_accuracy: 0.8759\n",
      "Epoch 15/500\n",
      "308/308 [==============================] - 6s 18ms/step - loss: 0.2099 - accuracy: 0.9149 - val_loss: 0.2916 - val_accuracy: 0.8759\n",
      "Epoch 16/500\n",
      "308/308 [==============================] - 6s 18ms/step - loss: 0.2011 - accuracy: 0.9227 - val_loss: 0.2901 - val_accuracy: 0.8733\n",
      "Epoch 17/500\n",
      "308/308 [==============================] - 5s 15ms/step - loss: 0.2051 - accuracy: 0.9173 - val_loss: 0.2909 - val_accuracy: 0.8759\n",
      "Epoch 18/500\n",
      "308/308 [==============================] - 5s 15ms/step - loss: 0.2179 - accuracy: 0.9101 - val_loss: 0.2894 - val_accuracy: 0.8793\n",
      "Epoch 19/500\n",
      "308/308 [==============================] - 5s 15ms/step - loss: 0.2031 - accuracy: 0.9173 - val_loss: 0.2890 - val_accuracy: 0.8776\n",
      "Epoch 20/500\n",
      "308/308 [==============================] - 5s 15ms/step - loss: 0.2052 - accuracy: 0.9192 - val_loss: 0.2900 - val_accuracy: 0.8750\n",
      "Epoch 21/500\n",
      "308/308 [==============================] - 5s 16ms/step - loss: 0.2048 - accuracy: 0.9195 - val_loss: 0.2915 - val_accuracy: 0.8785\n",
      "Epoch 22/500\n",
      "308/308 [==============================] - 5s 17ms/step - loss: 0.2056 - accuracy: 0.9145 - val_loss: 0.2908 - val_accuracy: 0.8750\n",
      "Epoch 23/500\n",
      "308/308 [==============================] - 6s 18ms/step - loss: 0.2057 - accuracy: 0.9186 - val_loss: 0.2912 - val_accuracy: 0.8785\n",
      "Epoch 24/500\n",
      "308/308 [==============================] - 5s 17ms/step - loss: 0.2055 - accuracy: 0.9142 - val_loss: 0.2907 - val_accuracy: 0.8776\n",
      "Epoch 25/500\n",
      "308/308 [==============================] - 5s 16ms/step - loss: 0.2061 - accuracy: 0.9162 - val_loss: 0.2911 - val_accuracy: 0.8767\n",
      "Epoch 26/500\n",
      "308/308 [==============================] - 5s 16ms/step - loss: 0.2080 - accuracy: 0.9153 - val_loss: 0.2913 - val_accuracy: 0.8802\n",
      "Epoch 27/500\n",
      "308/308 [==============================] - 5s 17ms/step - loss: 0.2027 - accuracy: 0.9158 - val_loss: 0.2928 - val_accuracy: 0.8776\n",
      "Epoch 28/500\n",
      "308/308 [==============================] - 5s 16ms/step - loss: 0.2031 - accuracy: 0.9188 - val_loss: 0.2922 - val_accuracy: 0.8776\n",
      "Epoch 29/500\n",
      "308/308 [==============================] - 5s 16ms/step - loss: 0.2013 - accuracy: 0.9214 - val_loss: 0.2916 - val_accuracy: 0.8776\n",
      "Epoch 30/500\n",
      "308/308 [==============================] - 5s 16ms/step - loss: 0.2066 - accuracy: 0.9195 - val_loss: 0.2913 - val_accuracy: 0.8767\n",
      "Epoch 31/500\n",
      "308/308 [==============================] - 5s 18ms/step - loss: 0.2036 - accuracy: 0.9195 - val_loss: 0.2921 - val_accuracy: 0.8759\n",
      "Epoch 32/500\n",
      "308/308 [==============================] - 5s 15ms/step - loss: 0.1992 - accuracy: 0.9210 - val_loss: 0.2928 - val_accuracy: 0.8724\n",
      "Epoch 33/500\n",
      "308/308 [==============================] - 6s 18ms/step - loss: 0.2067 - accuracy: 0.9149 - val_loss: 0.2918 - val_accuracy: 0.8819\n",
      "Epoch 34/500\n",
      "308/308 [==============================] - 5s 17ms/step - loss: 0.2047 - accuracy: 0.9166 - val_loss: 0.2928 - val_accuracy: 0.8793\n",
      "Epoch 35/500\n",
      "308/308 [==============================] - 5s 16ms/step - loss: 0.1872 - accuracy: 0.9253 - val_loss: 0.2922 - val_accuracy: 0.8811\n",
      "Epoch 36/500\n",
      "308/308 [==============================] - 5s 15ms/step - loss: 0.1990 - accuracy: 0.9197 - val_loss: 0.2924 - val_accuracy: 0.8819\n",
      "Epoch 37/500\n",
      "308/308 [==============================] - 5s 16ms/step - loss: 0.2027 - accuracy: 0.9175 - val_loss: 0.2940 - val_accuracy: 0.8741\n",
      "Epoch 38/500\n",
      "308/308 [==============================] - 6s 18ms/step - loss: 0.1987 - accuracy: 0.9225 - val_loss: 0.2924 - val_accuracy: 0.8767\n",
      "Epoch 39/500\n",
      "308/308 [==============================] - 6s 18ms/step - loss: 0.2028 - accuracy: 0.9197 - val_loss: 0.2922 - val_accuracy: 0.8785\n",
      "Epoch 40/500\n",
      "308/308 [==============================] - 6s 19ms/step - loss: 0.1921 - accuracy: 0.9268 - val_loss: 0.2933 - val_accuracy: 0.8776\n",
      "Epoch 41/500\n",
      "308/308 [==============================] - 5s 18ms/step - loss: 0.1992 - accuracy: 0.9155 - val_loss: 0.2933 - val_accuracy: 0.8767\n",
      "Epoch 42/500\n",
      "308/308 [==============================] - 5s 18ms/step - loss: 0.1891 - accuracy: 0.9264 - val_loss: 0.2939 - val_accuracy: 0.8776\n",
      "Epoch 43/500\n",
      "308/308 [==============================] - 5s 17ms/step - loss: 0.1853 - accuracy: 0.9247 - val_loss: 0.2939 - val_accuracy: 0.8802\n",
      "Epoch 44/500\n",
      "308/308 [==============================] - 5s 16ms/step - loss: 0.1882 - accuracy: 0.9257 - val_loss: 0.2937 - val_accuracy: 0.8785\n",
      "Epoch 45/500\n",
      "308/308 [==============================] - 5s 16ms/step - loss: 0.1777 - accuracy: 0.9279 - val_loss: 0.2960 - val_accuracy: 0.8733\n",
      "Epoch 46/500\n",
      "308/308 [==============================] - 5s 17ms/step - loss: 0.1925 - accuracy: 0.9238 - val_loss: 0.2957 - val_accuracy: 0.8759\n",
      "Epoch 47/500\n",
      "308/308 [==============================] - 5s 16ms/step - loss: 0.2008 - accuracy: 0.9177 - val_loss: 0.2948 - val_accuracy: 0.8750\n",
      "Epoch 48/500\n",
      "308/308 [==============================] - 5s 16ms/step - loss: 0.1847 - accuracy: 0.9231 - val_loss: 0.2972 - val_accuracy: 0.8767\n",
      "Epoch 49/500\n",
      "308/308 [==============================] - 5s 17ms/step - loss: 0.1922 - accuracy: 0.9208 - val_loss: 0.2960 - val_accuracy: 0.8759\n",
      "Epoch 50/500\n",
      "308/308 [==============================] - 5s 17ms/step - loss: 0.1935 - accuracy: 0.9214 - val_loss: 0.2974 - val_accuracy: 0.8733\n",
      "Epoch 51/500\n",
      "308/308 [==============================] - 5s 17ms/step - loss: 0.1857 - accuracy: 0.9271 - val_loss: 0.2963 - val_accuracy: 0.8750\n",
      "Epoch 52/500\n",
      "308/308 [==============================] - 5s 17ms/step - loss: 0.1795 - accuracy: 0.9288 - val_loss: 0.2951 - val_accuracy: 0.8776\n",
      "Epoch 53/500\n",
      "308/308 [==============================] - 5s 16ms/step - loss: 0.1862 - accuracy: 0.9303 - val_loss: 0.2936 - val_accuracy: 0.8776\n",
      "Epoch 54/500\n",
      "308/308 [==============================] - 5s 16ms/step - loss: 0.1963 - accuracy: 0.9240 - val_loss: 0.2945 - val_accuracy: 0.8767\n",
      "Epoch 55/500\n",
      "308/308 [==============================] - 6s 18ms/step - loss: 0.1808 - accuracy: 0.9275 - val_loss: 0.2954 - val_accuracy: 0.8759\n",
      "Epoch 56/500\n",
      "308/308 [==============================] - 6s 18ms/step - loss: 0.1779 - accuracy: 0.9271 - val_loss: 0.2958 - val_accuracy: 0.8793\n",
      "Epoch 57/500\n"
     ]
    },
    {
     "name": "stdout",
     "output_type": "stream",
     "text": [
      "308/308 [==============================] - 6s 18ms/step - loss: 0.1798 - accuracy: 0.9266 - val_loss: 0.2965 - val_accuracy: 0.8776\n",
      "Epoch 58/500\n",
      "308/308 [==============================] - 6s 18ms/step - loss: 0.1741 - accuracy: 0.9331 - val_loss: 0.2976 - val_accuracy: 0.8750\n",
      "Epoch 59/500\n",
      "308/308 [==============================] - 6s 19ms/step - loss: 0.1760 - accuracy: 0.9301 - val_loss: 0.2979 - val_accuracy: 0.8776\n",
      "Epoch 60/500\n",
      "308/308 [==============================] - 6s 19ms/step - loss: 0.1924 - accuracy: 0.9212 - val_loss: 0.2957 - val_accuracy: 0.8759\n",
      "Epoch 61/500\n",
      "308/308 [==============================] - 5s 17ms/step - loss: 0.1769 - accuracy: 0.9305 - val_loss: 0.2955 - val_accuracy: 0.8733\n",
      "Epoch 62/500\n",
      "308/308 [==============================] - 5s 17ms/step - loss: 0.1818 - accuracy: 0.9271 - val_loss: 0.2965 - val_accuracy: 0.8776\n",
      "Epoch 63/500\n",
      "308/308 [==============================] - 6s 18ms/step - loss: 0.1754 - accuracy: 0.9297 - val_loss: 0.2970 - val_accuracy: 0.8776\n",
      "Epoch 64/500\n",
      "308/308 [==============================] - 7s 22ms/step - loss: 0.1831 - accuracy: 0.9297 - val_loss: 0.2956 - val_accuracy: 0.8776\n",
      "Epoch 65/500\n",
      "308/308 [==============================] - 6s 18ms/step - loss: 0.1794 - accuracy: 0.9266 - val_loss: 0.2971 - val_accuracy: 0.8828\n",
      "Epoch 66/500\n",
      "308/308 [==============================] - 5s 17ms/step - loss: 0.1808 - accuracy: 0.9292 - val_loss: 0.2975 - val_accuracy: 0.8811\n",
      "Epoch 67/500\n",
      "308/308 [==============================] - 6s 19ms/step - loss: 0.1721 - accuracy: 0.9303 - val_loss: 0.2951 - val_accuracy: 0.8828\n",
      "Epoch 68/500\n",
      "308/308 [==============================] - 5s 16ms/step - loss: 0.1722 - accuracy: 0.9344 - val_loss: 0.2946 - val_accuracy: 0.8828\n",
      "Epoch 69/500\n",
      "308/308 [==============================] - 5s 17ms/step - loss: 0.1782 - accuracy: 0.9264 - val_loss: 0.2934 - val_accuracy: 0.8828\n",
      "Epoch 70/500\n",
      "308/308 [==============================] - 6s 20ms/step - loss: 0.1718 - accuracy: 0.9316 - val_loss: 0.2951 - val_accuracy: 0.8811\n",
      "Epoch 71/500\n",
      "308/308 [==============================] - 7s 22ms/step - loss: 0.1811 - accuracy: 0.9244 - val_loss: 0.2949 - val_accuracy: 0.8837\n",
      "Epoch 72/500\n",
      "308/308 [==============================] - 7s 22ms/step - loss: 0.1835 - accuracy: 0.9260 - val_loss: 0.2945 - val_accuracy: 0.8793\n",
      "Epoch 73/500\n",
      "308/308 [==============================] - 6s 19ms/step - loss: 0.1776 - accuracy: 0.9284 - val_loss: 0.2948 - val_accuracy: 0.8793\n",
      "Epoch 74/500\n",
      "308/308 [==============================] - 6s 19ms/step - loss: 0.1715 - accuracy: 0.9329 - val_loss: 0.2967 - val_accuracy: 0.8819\n",
      "Epoch 75/500\n",
      "308/308 [==============================] - 5s 18ms/step - loss: 0.1639 - accuracy: 0.9373 - val_loss: 0.2972 - val_accuracy: 0.8759\n",
      "Epoch 76/500\n",
      "308/308 [==============================] - 5s 17ms/step - loss: 0.1761 - accuracy: 0.9301 - val_loss: 0.2966 - val_accuracy: 0.8759\n",
      "Epoch 77/500\n",
      "308/308 [==============================] - 6s 19ms/step - loss: 0.1782 - accuracy: 0.9260 - val_loss: 0.2976 - val_accuracy: 0.8767\n",
      "Epoch 78/500\n",
      "308/308 [==============================] - 7s 21ms/step - loss: 0.1681 - accuracy: 0.9362 - val_loss: 0.2976 - val_accuracy: 0.8819\n",
      "Epoch 79/500\n",
      "308/308 [==============================] - 6s 19ms/step - loss: 0.1696 - accuracy: 0.9349 - val_loss: 0.3003 - val_accuracy: 0.8819\n",
      "Epoch 80/500\n",
      "308/308 [==============================] - 6s 19ms/step - loss: 0.1634 - accuracy: 0.9344 - val_loss: 0.2993 - val_accuracy: 0.8811\n",
      "Epoch 81/500\n",
      "308/308 [==============================] - 6s 19ms/step - loss: 0.1740 - accuracy: 0.9314 - val_loss: 0.2983 - val_accuracy: 0.8785\n",
      "Epoch 82/500\n",
      "308/308 [==============================] - 6s 20ms/step - loss: 0.1688 - accuracy: 0.9340 - val_loss: 0.2987 - val_accuracy: 0.8819\n",
      "Epoch 83/500\n",
      "308/308 [==============================] - 6s 19ms/step - loss: 0.1683 - accuracy: 0.9357 - val_loss: 0.2990 - val_accuracy: 0.8811\n",
      "Epoch 84/500\n",
      "308/308 [==============================] - 6s 19ms/step - loss: 0.1778 - accuracy: 0.9290 - val_loss: 0.2968 - val_accuracy: 0.8793\n",
      "Epoch 85/500\n",
      "308/308 [==============================] - 6s 20ms/step - loss: 0.1685 - accuracy: 0.9299 - val_loss: 0.2955 - val_accuracy: 0.8811\n",
      "Epoch 86/500\n",
      "308/308 [==============================] - 6s 20ms/step - loss: 0.1690 - accuracy: 0.9323 - val_loss: 0.2976 - val_accuracy: 0.8776\n",
      "Epoch 87/500\n",
      "308/308 [==============================] - 6s 19ms/step - loss: 0.1668 - accuracy: 0.9362 - val_loss: 0.2986 - val_accuracy: 0.8811\n",
      "Epoch 88/500\n",
      "308/308 [==============================] - 7s 23ms/step - loss: 0.1640 - accuracy: 0.9381 - val_loss: 0.2996 - val_accuracy: 0.8793\n",
      "Epoch 89/500\n",
      "308/308 [==============================] - 6s 21ms/step - loss: 0.1606 - accuracy: 0.9394 - val_loss: 0.2995 - val_accuracy: 0.8819\n",
      "Epoch 90/500\n",
      "308/308 [==============================] - 6s 19ms/step - loss: 0.1619 - accuracy: 0.9396 - val_loss: 0.2994 - val_accuracy: 0.8802\n",
      "Epoch 91/500\n",
      "308/308 [==============================] - 6s 19ms/step - loss: 0.1644 - accuracy: 0.9368 - val_loss: 0.2993 - val_accuracy: 0.8802\n",
      "Epoch 92/500\n",
      "308/308 [==============================] - 7s 21ms/step - loss: 0.1596 - accuracy: 0.9375 - val_loss: 0.3007 - val_accuracy: 0.8811\n",
      "Epoch 93/500\n",
      "308/308 [==============================] - 6s 20ms/step - loss: 0.1753 - accuracy: 0.9303 - val_loss: 0.3001 - val_accuracy: 0.8828\n",
      "Epoch 94/500\n",
      "308/308 [==============================] - 5s 17ms/step - loss: 0.1646 - accuracy: 0.9360 - val_loss: 0.3028 - val_accuracy: 0.8811\n",
      "Epoch 95/500\n",
      "308/308 [==============================] - 5s 18ms/step - loss: 0.1600 - accuracy: 0.9379 - val_loss: 0.3008 - val_accuracy: 0.8811\n",
      "Epoch 96/500\n",
      "308/308 [==============================] - 7s 22ms/step - loss: 0.1651 - accuracy: 0.9355 - val_loss: 0.2996 - val_accuracy: 0.8828\n",
      "Epoch 97/500\n",
      "308/308 [==============================] - 7s 21ms/step - loss: 0.1623 - accuracy: 0.9357 - val_loss: 0.2988 - val_accuracy: 0.8845\n",
      "Epoch 98/500\n",
      "308/308 [==============================] - 6s 19ms/step - loss: 0.1745 - accuracy: 0.9318 - val_loss: 0.3000 - val_accuracy: 0.8819\n",
      "Epoch 99/500\n",
      "308/308 [==============================] - 7s 22ms/step - loss: 0.1588 - accuracy: 0.9379 - val_loss: 0.3019 - val_accuracy: 0.8819\n",
      "Epoch 100/500\n",
      "308/308 [==============================] - 5s 18ms/step - loss: 0.1688 - accuracy: 0.9312 - val_loss: 0.2967 - val_accuracy: 0.8828\n",
      "Epoch 101/500\n",
      "308/308 [==============================] - 7s 23ms/step - loss: 0.1597 - accuracy: 0.9381 - val_loss: 0.2983 - val_accuracy: 0.8811\n",
      "Epoch 102/500\n",
      "308/308 [==============================] - 6s 19ms/step - loss: 0.1664 - accuracy: 0.9331 - val_loss: 0.2991 - val_accuracy: 0.8819\n",
      "Epoch 103/500\n",
      "308/308 [==============================] - 6s 19ms/step - loss: 0.1632 - accuracy: 0.9355 - val_loss: 0.2971 - val_accuracy: 0.8845\n",
      "Epoch 104/500\n",
      "308/308 [==============================] - 6s 18ms/step - loss: 0.1579 - accuracy: 0.9373 - val_loss: 0.2946 - val_accuracy: 0.8872\n",
      "Epoch 105/500\n",
      "308/308 [==============================] - 5s 18ms/step - loss: 0.1625 - accuracy: 0.9349 - val_loss: 0.2954 - val_accuracy: 0.8837\n",
      "Epoch 106/500\n",
      "308/308 [==============================] - 6s 18ms/step - loss: 0.1680 - accuracy: 0.9331 - val_loss: 0.2959 - val_accuracy: 0.8819\n",
      "Epoch 107/500\n",
      "308/308 [==============================] - 6s 18ms/step - loss: 0.1609 - accuracy: 0.9399 - val_loss: 0.2965 - val_accuracy: 0.8811\n",
      "Epoch 108/500\n",
      "308/308 [==============================] - 5s 18ms/step - loss: 0.1536 - accuracy: 0.9360 - val_loss: 0.2993 - val_accuracy: 0.8828\n",
      "Epoch 109/500\n",
      "308/308 [==============================] - 6s 18ms/step - loss: 0.1475 - accuracy: 0.9420 - val_loss: 0.2963 - val_accuracy: 0.8828\n",
      "Epoch 110/500\n",
      "308/308 [==============================] - 5s 18ms/step - loss: 0.1627 - accuracy: 0.9401 - val_loss: 0.2982 - val_accuracy: 0.8819\n",
      "Epoch 111/500\n",
      "308/308 [==============================] - 6s 18ms/step - loss: 0.1595 - accuracy: 0.9381 - val_loss: 0.3002 - val_accuracy: 0.8802\n",
      "Epoch 112/500\n",
      "308/308 [==============================] - 6s 19ms/step - loss: 0.1537 - accuracy: 0.9433 - val_loss: 0.3007 - val_accuracy: 0.8802\n",
      "Epoch 113/500\n"
     ]
    },
    {
     "name": "stdout",
     "output_type": "stream",
     "text": [
      "308/308 [==============================] - 5s 17ms/step - loss: 0.1494 - accuracy: 0.9412 - val_loss: 0.3027 - val_accuracy: 0.8828\n",
      "Epoch 114/500\n",
      "308/308 [==============================] - 5s 17ms/step - loss: 0.1549 - accuracy: 0.9401 - val_loss: 0.3000 - val_accuracy: 0.8819\n",
      "Epoch 115/500\n",
      "308/308 [==============================] - 6s 20ms/step - loss: 0.1579 - accuracy: 0.9373 - val_loss: 0.2990 - val_accuracy: 0.8828\n",
      "Epoch 116/500\n",
      "308/308 [==============================] - 6s 19ms/step - loss: 0.1503 - accuracy: 0.9394 - val_loss: 0.2997 - val_accuracy: 0.8837\n",
      "Epoch 117/500\n",
      "308/308 [==============================] - 5s 18ms/step - loss: 0.1464 - accuracy: 0.9431 - val_loss: 0.3004 - val_accuracy: 0.8819\n",
      "Epoch 118/500\n",
      "308/308 [==============================] - 6s 19ms/step - loss: 0.1448 - accuracy: 0.9438 - val_loss: 0.3043 - val_accuracy: 0.8819\n",
      "Epoch 119/500\n",
      "308/308 [==============================] - 6s 19ms/step - loss: 0.1541 - accuracy: 0.9405 - val_loss: 0.3022 - val_accuracy: 0.8802\n",
      "Epoch 120/500\n",
      "308/308 [==============================] - 6s 19ms/step - loss: 0.1653 - accuracy: 0.9336 - val_loss: 0.3017 - val_accuracy: 0.8793\n",
      "Epoch 121/500\n",
      "308/308 [==============================] - 6s 18ms/step - loss: 0.1601 - accuracy: 0.9368 - val_loss: 0.2994 - val_accuracy: 0.8837\n",
      "Epoch 122/500\n",
      "308/308 [==============================] - 5s 17ms/step - loss: 0.1581 - accuracy: 0.9386 - val_loss: 0.2974 - val_accuracy: 0.8828\n",
      "Epoch 123/500\n",
      "308/308 [==============================] - 6s 19ms/step - loss: 0.1572 - accuracy: 0.9388 - val_loss: 0.2973 - val_accuracy: 0.8837\n",
      "Epoch 124/500\n",
      "308/308 [==============================] - 6s 18ms/step - loss: 0.1494 - accuracy: 0.9416 - val_loss: 0.2973 - val_accuracy: 0.8828\n",
      "Epoch 125/500\n",
      "308/308 [==============================] - 5s 17ms/step - loss: 0.1597 - accuracy: 0.9364 - val_loss: 0.2993 - val_accuracy: 0.8828\n",
      "Epoch 126/500\n",
      "308/308 [==============================] - 5s 18ms/step - loss: 0.1477 - accuracy: 0.9442 - val_loss: 0.3029 - val_accuracy: 0.8819\n",
      "Epoch 127/500\n",
      "308/308 [==============================] - 5s 18ms/step - loss: 0.1468 - accuracy: 0.9418 - val_loss: 0.3047 - val_accuracy: 0.8837\n",
      "Epoch 128/500\n",
      "308/308 [==============================] - 5s 18ms/step - loss: 0.1499 - accuracy: 0.9399 - val_loss: 0.3012 - val_accuracy: 0.8845\n",
      "Epoch 129/500\n",
      "308/308 [==============================] - 5s 18ms/step - loss: 0.1481 - accuracy: 0.9429 - val_loss: 0.3020 - val_accuracy: 0.8845\n",
      "Epoch 130/500\n",
      "308/308 [==============================] - 6s 18ms/step - loss: 0.1465 - accuracy: 0.9422 - val_loss: 0.3033 - val_accuracy: 0.8819\n",
      "Epoch 131/500\n",
      "308/308 [==============================] - 6s 18ms/step - loss: 0.1492 - accuracy: 0.9422 - val_loss: 0.3044 - val_accuracy: 0.8793\n",
      "Epoch 132/500\n",
      "308/308 [==============================] - 6s 19ms/step - loss: 0.1488 - accuracy: 0.9427 - val_loss: 0.3044 - val_accuracy: 0.8811\n",
      "Epoch 133/500\n",
      "308/308 [==============================] - 5s 17ms/step - loss: 0.1482 - accuracy: 0.9427 - val_loss: 0.3038 - val_accuracy: 0.8819\n",
      "Epoch 134/500\n",
      "308/308 [==============================] - 5s 17ms/step - loss: 0.1479 - accuracy: 0.9420 - val_loss: 0.3065 - val_accuracy: 0.8828\n",
      "Epoch 135/500\n",
      "308/308 [==============================] - 6s 18ms/step - loss: 0.1436 - accuracy: 0.9429 - val_loss: 0.3066 - val_accuracy: 0.8793\n",
      "Epoch 136/500\n",
      "308/308 [==============================] - 5s 18ms/step - loss: 0.1429 - accuracy: 0.9440 - val_loss: 0.3091 - val_accuracy: 0.8828\n",
      "Epoch 137/500\n",
      "308/308 [==============================] - 5s 18ms/step - loss: 0.1480 - accuracy: 0.9416 - val_loss: 0.3041 - val_accuracy: 0.8802\n",
      "Epoch 138/500\n",
      "308/308 [==============================] - 6s 19ms/step - loss: 0.1387 - accuracy: 0.9485 - val_loss: 0.3049 - val_accuracy: 0.8819\n",
      "Epoch 139/500\n",
      "308/308 [==============================] - 6s 18ms/step - loss: 0.1518 - accuracy: 0.9368 - val_loss: 0.3023 - val_accuracy: 0.8819\n",
      "Epoch 140/500\n",
      "308/308 [==============================] - 5s 16ms/step - loss: 0.1470 - accuracy: 0.9396 - val_loss: 0.3006 - val_accuracy: 0.8811\n",
      "Epoch 141/500\n",
      "308/308 [==============================] - 6s 18ms/step - loss: 0.1471 - accuracy: 0.9414 - val_loss: 0.3021 - val_accuracy: 0.8802\n",
      "Epoch 142/500\n",
      "308/308 [==============================] - 5s 18ms/step - loss: 0.1464 - accuracy: 0.9414 - val_loss: 0.3056 - val_accuracy: 0.8819\n",
      "Epoch 143/500\n",
      "308/308 [==============================] - 5s 17ms/step - loss: 0.1459 - accuracy: 0.9457 - val_loss: 0.3060 - val_accuracy: 0.8811\n",
      "Epoch 144/500\n",
      "308/308 [==============================] - 5s 18ms/step - loss: 0.1362 - accuracy: 0.9468 - val_loss: 0.3087 - val_accuracy: 0.8802\n",
      "Epoch 145/500\n",
      "308/308 [==============================] - 5s 17ms/step - loss: 0.1357 - accuracy: 0.9490 - val_loss: 0.3093 - val_accuracy: 0.8793\n",
      "Epoch 146/500\n",
      "308/308 [==============================] - 5s 17ms/step - loss: 0.1378 - accuracy: 0.9453 - val_loss: 0.3074 - val_accuracy: 0.8845\n",
      "Epoch 147/500\n",
      "308/308 [==============================] - 5s 17ms/step - loss: 0.1393 - accuracy: 0.9451 - val_loss: 0.3072 - val_accuracy: 0.8845\n",
      "Epoch 148/500\n",
      "308/308 [==============================] - 5s 17ms/step - loss: 0.1409 - accuracy: 0.9470 - val_loss: 0.3076 - val_accuracy: 0.8811\n",
      "Epoch 149/500\n",
      "308/308 [==============================] - 5s 17ms/step - loss: 0.1476 - accuracy: 0.9414 - val_loss: 0.3071 - val_accuracy: 0.8845\n",
      "Epoch 150/500\n",
      "308/308 [==============================] - 6s 20ms/step - loss: 0.1368 - accuracy: 0.9503 - val_loss: 0.3081 - val_accuracy: 0.8819\n",
      "Epoch 151/500\n",
      "308/308 [==============================] - 5s 17ms/step - loss: 0.1421 - accuracy: 0.9442 - val_loss: 0.3113 - val_accuracy: 0.8837\n",
      "Epoch 152/500\n",
      "308/308 [==============================] - 5s 17ms/step - loss: 0.1382 - accuracy: 0.9477 - val_loss: 0.3120 - val_accuracy: 0.8837\n",
      "Epoch 153/500\n",
      "308/308 [==============================] - 6s 19ms/step - loss: 0.1379 - accuracy: 0.9453 - val_loss: 0.3120 - val_accuracy: 0.8811\n",
      "Epoch 154/500\n",
      "308/308 [==============================] - 5s 17ms/step - loss: 0.1498 - accuracy: 0.9436 - val_loss: 0.3098 - val_accuracy: 0.8811\n",
      "Epoch 155/500\n",
      "308/308 [==============================] - 5s 17ms/step - loss: 0.1335 - accuracy: 0.9468 - val_loss: 0.3107 - val_accuracy: 0.8802\n",
      "Epoch 156/500\n",
      "308/308 [==============================] - 6s 19ms/step - loss: 0.1441 - accuracy: 0.9427 - val_loss: 0.3138 - val_accuracy: 0.8802\n",
      "Epoch 157/500\n",
      "308/308 [==============================] - 5s 17ms/step - loss: 0.1330 - accuracy: 0.9459 - val_loss: 0.3134 - val_accuracy: 0.8802\n",
      "Epoch 158/500\n",
      "308/308 [==============================] - 5s 17ms/step - loss: 0.1328 - accuracy: 0.9479 - val_loss: 0.3113 - val_accuracy: 0.8837\n",
      "Epoch 159/500\n",
      "308/308 [==============================] - 5s 17ms/step - loss: 0.1381 - accuracy: 0.9466 - val_loss: 0.3096 - val_accuracy: 0.8819\n",
      "Epoch 160/500\n",
      "308/308 [==============================] - 5s 16ms/step - loss: 0.1355 - accuracy: 0.9464 - val_loss: 0.3087 - val_accuracy: 0.8811\n",
      "Epoch 161/500\n",
      "308/308 [==============================] - 5s 16ms/step - loss: 0.1408 - accuracy: 0.9451 - val_loss: 0.3091 - val_accuracy: 0.8828\n",
      "Epoch 162/500\n",
      "308/308 [==============================] - 6s 18ms/step - loss: 0.1304 - accuracy: 0.9477 - val_loss: 0.3106 - val_accuracy: 0.8828\n",
      "Epoch 163/500\n",
      "308/308 [==============================] - 5s 17ms/step - loss: 0.1312 - accuracy: 0.9531 - val_loss: 0.3078 - val_accuracy: 0.8811\n",
      "Epoch 164/500\n",
      "308/308 [==============================] - 5s 17ms/step - loss: 0.1361 - accuracy: 0.9464 - val_loss: 0.3088 - val_accuracy: 0.8811\n",
      "Epoch 165/500\n",
      "308/308 [==============================] - 6s 18ms/step - loss: 0.1340 - accuracy: 0.9453 - val_loss: 0.3099 - val_accuracy: 0.8828\n",
      "Epoch 166/500\n",
      "308/308 [==============================] - 6s 19ms/step - loss: 0.1296 - accuracy: 0.9488 - val_loss: 0.3084 - val_accuracy: 0.8828\n",
      "Epoch 167/500\n",
      "308/308 [==============================] - 5s 18ms/step - loss: 0.1270 - accuracy: 0.9533 - val_loss: 0.3120 - val_accuracy: 0.8854\n",
      "Epoch 168/500\n",
      "308/308 [==============================] - 6s 19ms/step - loss: 0.1262 - accuracy: 0.9514 - val_loss: 0.3129 - val_accuracy: 0.8837\n",
      "Epoch 169/500\n"
     ]
    },
    {
     "name": "stdout",
     "output_type": "stream",
     "text": [
      "308/308 [==============================] - 6s 18ms/step - loss: 0.1314 - accuracy: 0.9496 - val_loss: 0.3132 - val_accuracy: 0.8819\n",
      "Epoch 170/500\n",
      "308/308 [==============================] - 5s 18ms/step - loss: 0.1342 - accuracy: 0.9514 - val_loss: 0.3127 - val_accuracy: 0.8837\n",
      "Epoch 171/500\n",
      "308/308 [==============================] - 6s 20ms/step - loss: 0.1462 - accuracy: 0.9409 - val_loss: 0.3115 - val_accuracy: 0.8828\n",
      "Epoch 172/500\n",
      "308/308 [==============================] - 6s 21ms/step - loss: 0.1409 - accuracy: 0.9436 - val_loss: 0.3118 - val_accuracy: 0.8863\n",
      "Epoch 173/500\n",
      "308/308 [==============================] - 6s 19ms/step - loss: 0.1365 - accuracy: 0.9468 - val_loss: 0.3104 - val_accuracy: 0.8837\n",
      "Epoch 174/500\n",
      "308/308 [==============================] - 5s 17ms/step - loss: 0.1270 - accuracy: 0.9492 - val_loss: 0.3097 - val_accuracy: 0.8837\n",
      "Epoch 175/500\n",
      "308/308 [==============================] - 5s 17ms/step - loss: 0.1267 - accuracy: 0.9529 - val_loss: 0.3093 - val_accuracy: 0.8854\n",
      "Epoch 176/500\n",
      "308/308 [==============================] - 5s 17ms/step - loss: 0.1349 - accuracy: 0.9509 - val_loss: 0.3089 - val_accuracy: 0.8854\n",
      "Epoch 177/500\n",
      "308/308 [==============================] - 5s 16ms/step - loss: 0.1253 - accuracy: 0.9540 - val_loss: 0.3143 - val_accuracy: 0.8880\n",
      "Epoch 178/500\n",
      "308/308 [==============================] - 5s 16ms/step - loss: 0.1301 - accuracy: 0.9468 - val_loss: 0.3122 - val_accuracy: 0.8837\n",
      "Epoch 179/500\n",
      "308/308 [==============================] - 5s 17ms/step - loss: 0.1251 - accuracy: 0.9505 - val_loss: 0.3134 - val_accuracy: 0.8828\n",
      "Epoch 180/500\n",
      "308/308 [==============================] - 5s 16ms/step - loss: 0.1162 - accuracy: 0.9557 - val_loss: 0.3131 - val_accuracy: 0.8863\n",
      "Epoch 181/500\n",
      "308/308 [==============================] - 5s 16ms/step - loss: 0.1285 - accuracy: 0.9518 - val_loss: 0.3170 - val_accuracy: 0.8854\n",
      "Epoch 182/500\n",
      "308/308 [==============================] - 5s 16ms/step - loss: 0.1327 - accuracy: 0.9483 - val_loss: 0.3160 - val_accuracy: 0.8854\n",
      "Epoch 183/500\n",
      "308/308 [==============================] - 5s 16ms/step - loss: 0.1407 - accuracy: 0.9451 - val_loss: 0.3134 - val_accuracy: 0.8845\n",
      "Epoch 184/500\n",
      "308/308 [==============================] - 5s 16ms/step - loss: 0.1222 - accuracy: 0.9531 - val_loss: 0.3129 - val_accuracy: 0.8837\n",
      "Epoch 185/500\n",
      "308/308 [==============================] - 5s 16ms/step - loss: 0.1241 - accuracy: 0.9512 - val_loss: 0.3129 - val_accuracy: 0.8828\n",
      "Epoch 186/500\n",
      "308/308 [==============================] - 5s 17ms/step - loss: 0.1233 - accuracy: 0.9518 - val_loss: 0.3126 - val_accuracy: 0.8837\n",
      "Epoch 187/500\n",
      "308/308 [==============================] - 5s 16ms/step - loss: 0.1345 - accuracy: 0.9488 - val_loss: 0.3120 - val_accuracy: 0.8863\n",
      "Epoch 188/500\n",
      "308/308 [==============================] - 5s 16ms/step - loss: 0.1277 - accuracy: 0.9503 - val_loss: 0.3129 - val_accuracy: 0.8819\n",
      "Epoch 189/500\n",
      "308/308 [==============================] - 5s 17ms/step - loss: 0.1244 - accuracy: 0.9535 - val_loss: 0.3151 - val_accuracy: 0.8854\n",
      "Epoch 190/500\n",
      "308/308 [==============================] - 5s 16ms/step - loss: 0.1305 - accuracy: 0.9483 - val_loss: 0.3112 - val_accuracy: 0.8802\n",
      "Epoch 191/500\n",
      "308/308 [==============================] - 5s 16ms/step - loss: 0.1312 - accuracy: 0.9446 - val_loss: 0.3144 - val_accuracy: 0.8880\n",
      "Epoch 192/500\n",
      "308/308 [==============================] - 5s 17ms/step - loss: 0.1254 - accuracy: 0.9468 - val_loss: 0.3112 - val_accuracy: 0.8845\n",
      "Epoch 193/500\n",
      "308/308 [==============================] - 5s 16ms/step - loss: 0.1292 - accuracy: 0.9520 - val_loss: 0.3141 - val_accuracy: 0.8845\n",
      "Epoch 194/500\n",
      "308/308 [==============================] - 5s 16ms/step - loss: 0.1145 - accuracy: 0.9548 - val_loss: 0.3124 - val_accuracy: 0.8837\n",
      "Epoch 195/500\n",
      "308/308 [==============================] - 5s 16ms/step - loss: 0.1140 - accuracy: 0.9548 - val_loss: 0.3141 - val_accuracy: 0.8845\n",
      "Epoch 196/500\n",
      "308/308 [==============================] - 5s 16ms/step - loss: 0.1329 - accuracy: 0.9457 - val_loss: 0.3152 - val_accuracy: 0.8828\n",
      "Epoch 197/500\n",
      "308/308 [==============================] - 5s 16ms/step - loss: 0.1167 - accuracy: 0.9561 - val_loss: 0.3178 - val_accuracy: 0.8880\n",
      "Epoch 198/500\n",
      "308/308 [==============================] - 5s 16ms/step - loss: 0.1168 - accuracy: 0.9525 - val_loss: 0.3172 - val_accuracy: 0.8828\n",
      "Epoch 199/500\n",
      "308/308 [==============================] - 5s 16ms/step - loss: 0.1202 - accuracy: 0.9492 - val_loss: 0.3171 - val_accuracy: 0.8837\n",
      "Epoch 200/500\n",
      "308/308 [==============================] - 5s 16ms/step - loss: 0.1273 - accuracy: 0.9518 - val_loss: 0.3165 - val_accuracy: 0.8811\n",
      "Epoch 201/500\n",
      "308/308 [==============================] - 5s 16ms/step - loss: 0.1247 - accuracy: 0.9531 - val_loss: 0.3152 - val_accuracy: 0.8828\n",
      "Epoch 202/500\n",
      "308/308 [==============================] - 5s 17ms/step - loss: 0.1268 - accuracy: 0.9509 - val_loss: 0.3159 - val_accuracy: 0.8837\n",
      "Epoch 203/500\n",
      "308/308 [==============================] - 5s 16ms/step - loss: 0.1191 - accuracy: 0.9520 - val_loss: 0.3158 - val_accuracy: 0.8802\n",
      "Epoch 204/500\n",
      "308/308 [==============================] - 5s 16ms/step - loss: 0.1345 - accuracy: 0.9492 - val_loss: 0.3168 - val_accuracy: 0.8872\n",
      "Epoch 205/500\n",
      "308/308 [==============================] - 5s 17ms/step - loss: 0.1209 - accuracy: 0.9546 - val_loss: 0.3162 - val_accuracy: 0.8854\n",
      "Epoch 206/500\n",
      "308/308 [==============================] - 5s 16ms/step - loss: 0.1234 - accuracy: 0.9509 - val_loss: 0.3127 - val_accuracy: 0.8819\n",
      "Epoch 207/500\n",
      "308/308 [==============================] - 5s 16ms/step - loss: 0.1220 - accuracy: 0.9535 - val_loss: 0.3143 - val_accuracy: 0.8811\n",
      "Epoch 208/500\n",
      "308/308 [==============================] - 5s 17ms/step - loss: 0.1209 - accuracy: 0.9551 - val_loss: 0.3153 - val_accuracy: 0.8819\n",
      "Epoch 209/500\n",
      "308/308 [==============================] - 5s 16ms/step - loss: 0.1132 - accuracy: 0.9559 - val_loss: 0.3187 - val_accuracy: 0.8845\n",
      "Epoch 210/500\n",
      "308/308 [==============================] - 5s 16ms/step - loss: 0.1243 - accuracy: 0.9538 - val_loss: 0.3148 - val_accuracy: 0.8845\n",
      "Epoch 211/500\n",
      "308/308 [==============================] - 5s 16ms/step - loss: 0.1220 - accuracy: 0.9546 - val_loss: 0.3143 - val_accuracy: 0.8854\n",
      "Epoch 212/500\n",
      "308/308 [==============================] - 5s 16ms/step - loss: 0.1218 - accuracy: 0.9531 - val_loss: 0.3147 - val_accuracy: 0.8854\n",
      "Epoch 213/500\n",
      "308/308 [==============================] - 5s 16ms/step - loss: 0.1280 - accuracy: 0.9525 - val_loss: 0.3152 - val_accuracy: 0.8872\n",
      "Epoch 214/500\n",
      "308/308 [==============================] - 5s 16ms/step - loss: 0.1185 - accuracy: 0.9542 - val_loss: 0.3132 - val_accuracy: 0.8811\n",
      "Epoch 215/500\n",
      "308/308 [==============================] - 5s 17ms/step - loss: 0.1174 - accuracy: 0.9570 - val_loss: 0.3172 - val_accuracy: 0.8828\n",
      "Epoch 216/500\n",
      "308/308 [==============================] - 5s 16ms/step - loss: 0.1187 - accuracy: 0.9544 - val_loss: 0.3177 - val_accuracy: 0.8837\n",
      "Epoch 217/500\n",
      "308/308 [==============================] - 5s 16ms/step - loss: 0.1128 - accuracy: 0.9574 - val_loss: 0.3176 - val_accuracy: 0.8845\n",
      "Epoch 218/500\n",
      "308/308 [==============================] - 5s 17ms/step - loss: 0.1225 - accuracy: 0.9542 - val_loss: 0.3196 - val_accuracy: 0.8872\n",
      "Epoch 219/500\n",
      "308/308 [==============================] - 5s 16ms/step - loss: 0.1192 - accuracy: 0.9540 - val_loss: 0.3184 - val_accuracy: 0.8854\n",
      "Epoch 220/500\n",
      "308/308 [==============================] - 5s 16ms/step - loss: 0.1172 - accuracy: 0.9559 - val_loss: 0.3177 - val_accuracy: 0.8837\n",
      "Epoch 221/500\n",
      "308/308 [==============================] - 5s 17ms/step - loss: 0.1208 - accuracy: 0.9520 - val_loss: 0.3170 - val_accuracy: 0.8845\n",
      "Epoch 222/500\n",
      "308/308 [==============================] - 5s 17ms/step - loss: 0.1111 - accuracy: 0.9587 - val_loss: 0.3185 - val_accuracy: 0.8837\n",
      "Epoch 223/500\n",
      "308/308 [==============================] - 5s 17ms/step - loss: 0.1127 - accuracy: 0.9585 - val_loss: 0.3178 - val_accuracy: 0.8837\n",
      "Epoch 224/500\n",
      "308/308 [==============================] - 5s 17ms/step - loss: 0.1171 - accuracy: 0.9548 - val_loss: 0.3169 - val_accuracy: 0.8845\n",
      "Epoch 225/500\n"
     ]
    },
    {
     "name": "stdout",
     "output_type": "stream",
     "text": [
      "308/308 [==============================] - 5s 16ms/step - loss: 0.1260 - accuracy: 0.9496 - val_loss: 0.3159 - val_accuracy: 0.8837\n",
      "Epoch 226/500\n",
      "308/308 [==============================] - 5s 16ms/step - loss: 0.1175 - accuracy: 0.9540 - val_loss: 0.3152 - val_accuracy: 0.8845\n",
      "Epoch 227/500\n",
      "308/308 [==============================] - 5s 16ms/step - loss: 0.1116 - accuracy: 0.9557 - val_loss: 0.3178 - val_accuracy: 0.8863\n",
      "Epoch 228/500\n",
      "308/308 [==============================] - 5s 18ms/step - loss: 0.1171 - accuracy: 0.9527 - val_loss: 0.3185 - val_accuracy: 0.8854\n",
      "Epoch 229/500\n",
      "308/308 [==============================] - 6s 19ms/step - loss: 0.1175 - accuracy: 0.9531 - val_loss: 0.3178 - val_accuracy: 0.8837\n",
      "Epoch 230/500\n",
      "308/308 [==============================] - 5s 16ms/step - loss: 0.1145 - accuracy: 0.9574 - val_loss: 0.3183 - val_accuracy: 0.8828\n",
      "Epoch 231/500\n",
      "308/308 [==============================] - 5s 16ms/step - loss: 0.1180 - accuracy: 0.9522 - val_loss: 0.3185 - val_accuracy: 0.8845\n",
      "Epoch 232/500\n",
      "308/308 [==============================] - 5s 16ms/step - loss: 0.1143 - accuracy: 0.9553 - val_loss: 0.3184 - val_accuracy: 0.8828\n",
      "Epoch 233/500\n",
      "308/308 [==============================] - 5s 16ms/step - loss: 0.1071 - accuracy: 0.9594 - val_loss: 0.3239 - val_accuracy: 0.8880\n",
      "Epoch 234/500\n",
      "308/308 [==============================] - 5s 16ms/step - loss: 0.1093 - accuracy: 0.9596 - val_loss: 0.3197 - val_accuracy: 0.8845\n",
      "Epoch 235/500\n",
      "308/308 [==============================] - 5s 16ms/step - loss: 0.1185 - accuracy: 0.9555 - val_loss: 0.3198 - val_accuracy: 0.8863\n",
      "Epoch 236/500\n",
      "308/308 [==============================] - 5s 16ms/step - loss: 0.1065 - accuracy: 0.9553 - val_loss: 0.3182 - val_accuracy: 0.8872\n",
      "Epoch 237/500\n",
      "308/308 [==============================] - 5s 17ms/step - loss: 0.1152 - accuracy: 0.9538 - val_loss: 0.3173 - val_accuracy: 0.8872\n",
      "Epoch 238/500\n",
      "308/308 [==============================] - 5s 16ms/step - loss: 0.1091 - accuracy: 0.9577 - val_loss: 0.3181 - val_accuracy: 0.8880\n",
      "Epoch 239/500\n",
      "308/308 [==============================] - 5s 16ms/step - loss: 0.1076 - accuracy: 0.9581 - val_loss: 0.3194 - val_accuracy: 0.8880\n",
      "Epoch 240/500\n",
      "308/308 [==============================] - 5s 17ms/step - loss: 0.1078 - accuracy: 0.9585 - val_loss: 0.3237 - val_accuracy: 0.8863\n",
      "Epoch 241/500\n",
      "308/308 [==============================] - 5s 16ms/step - loss: 0.1199 - accuracy: 0.9546 - val_loss: 0.3210 - val_accuracy: 0.8872\n",
      "Epoch 242/500\n",
      "308/308 [==============================] - 5s 16ms/step - loss: 0.1043 - accuracy: 0.9605 - val_loss: 0.3212 - val_accuracy: 0.8872\n",
      "Epoch 243/500\n",
      "308/308 [==============================] - 5s 16ms/step - loss: 0.1140 - accuracy: 0.9555 - val_loss: 0.3233 - val_accuracy: 0.8889\n",
      "Epoch 244/500\n",
      "308/308 [==============================] - 5s 16ms/step - loss: 0.0992 - accuracy: 0.9633 - val_loss: 0.3255 - val_accuracy: 0.8837\n",
      "Epoch 245/500\n",
      "308/308 [==============================] - 5s 16ms/step - loss: 0.1001 - accuracy: 0.9603 - val_loss: 0.3277 - val_accuracy: 0.8819\n",
      "Epoch 246/500\n",
      "308/308 [==============================] - 5s 16ms/step - loss: 0.1037 - accuracy: 0.9585 - val_loss: 0.3268 - val_accuracy: 0.8819\n",
      "Epoch 247/500\n",
      "308/308 [==============================] - 5s 16ms/step - loss: 0.1088 - accuracy: 0.9570 - val_loss: 0.3285 - val_accuracy: 0.8854\n",
      "Epoch 248/500\n",
      "308/308 [==============================] - 5s 16ms/step - loss: 0.1065 - accuracy: 0.9603 - val_loss: 0.3261 - val_accuracy: 0.8845\n",
      "Epoch 249/500\n",
      "308/308 [==============================] - 5s 16ms/step - loss: 0.1074 - accuracy: 0.9585 - val_loss: 0.3286 - val_accuracy: 0.8854\n",
      "Epoch 250/500\n",
      "308/308 [==============================] - 5s 17ms/step - loss: 0.1124 - accuracy: 0.9540 - val_loss: 0.3270 - val_accuracy: 0.8811\n",
      "Epoch 251/500\n",
      "308/308 [==============================] - 5s 16ms/step - loss: 0.1071 - accuracy: 0.9598 - val_loss: 0.3282 - val_accuracy: 0.8854\n",
      "Epoch 252/500\n",
      "308/308 [==============================] - 5s 16ms/step - loss: 0.1011 - accuracy: 0.9629 - val_loss: 0.3251 - val_accuracy: 0.8837\n",
      "Epoch 253/500\n",
      "308/308 [==============================] - 5s 16ms/step - loss: 0.1096 - accuracy: 0.9559 - val_loss: 0.3261 - val_accuracy: 0.8845\n",
      "Epoch 254/500\n",
      "308/308 [==============================] - 5s 16ms/step - loss: 0.1182 - accuracy: 0.9531 - val_loss: 0.3260 - val_accuracy: 0.8837\n",
      "Epoch 255/500\n",
      "308/308 [==============================] - 5s 16ms/step - loss: 0.1104 - accuracy: 0.9570 - val_loss: 0.3259 - val_accuracy: 0.8837\n",
      "Epoch 256/500\n",
      "308/308 [==============================] - 5s 16ms/step - loss: 0.1142 - accuracy: 0.9540 - val_loss: 0.3240 - val_accuracy: 0.8854\n",
      "Epoch 257/500\n",
      "308/308 [==============================] - 5s 16ms/step - loss: 0.1022 - accuracy: 0.9601 - val_loss: 0.3257 - val_accuracy: 0.8845\n",
      "Epoch 258/500\n",
      "308/308 [==============================] - 5s 16ms/step - loss: 0.1026 - accuracy: 0.9607 - val_loss: 0.3258 - val_accuracy: 0.8880\n",
      "Epoch 259/500\n",
      "308/308 [==============================] - 6s 19ms/step - loss: 0.1132 - accuracy: 0.9551 - val_loss: 0.3274 - val_accuracy: 0.8828\n",
      "Epoch 260/500\n",
      "308/308 [==============================] - 6s 20ms/step - loss: 0.1046 - accuracy: 0.9611 - val_loss: 0.3273 - val_accuracy: 0.8845\n",
      "Epoch 261/500\n",
      "308/308 [==============================] - 6s 18ms/step - loss: 0.1048 - accuracy: 0.9570 - val_loss: 0.3285 - val_accuracy: 0.8845\n",
      "Epoch 262/500\n",
      "308/308 [==============================] - 6s 18ms/step - loss: 0.0955 - accuracy: 0.9618 - val_loss: 0.3337 - val_accuracy: 0.8837\n",
      "Epoch 263/500\n",
      "308/308 [==============================] - 5s 18ms/step - loss: 0.1127 - accuracy: 0.9570 - val_loss: 0.3325 - val_accuracy: 0.8845\n",
      "Epoch 264/500\n",
      "308/308 [==============================] - 5s 18ms/step - loss: 0.1015 - accuracy: 0.9616 - val_loss: 0.3295 - val_accuracy: 0.8872\n",
      "Epoch 265/500\n",
      "308/308 [==============================] - 6s 19ms/step - loss: 0.1073 - accuracy: 0.9585 - val_loss: 0.3321 - val_accuracy: 0.8819\n",
      "Epoch 266/500\n",
      "308/308 [==============================] - 6s 18ms/step - loss: 0.1039 - accuracy: 0.9607 - val_loss: 0.3298 - val_accuracy: 0.8845\n",
      "Epoch 267/500\n",
      "308/308 [==============================] - 7s 21ms/step - loss: 0.1053 - accuracy: 0.9605 - val_loss: 0.3315 - val_accuracy: 0.8837\n",
      "Epoch 268/500\n",
      "308/308 [==============================] - 6s 21ms/step - loss: 0.1050 - accuracy: 0.9609 - val_loss: 0.3254 - val_accuracy: 0.8863\n",
      "Epoch 269/500\n",
      "308/308 [==============================] - 7s 22ms/step - loss: 0.0983 - accuracy: 0.9637 - val_loss: 0.3257 - val_accuracy: 0.8828\n",
      "Epoch 270/500\n",
      "308/308 [==============================] - 6s 18ms/step - loss: 0.1014 - accuracy: 0.9627 - val_loss: 0.3286 - val_accuracy: 0.8854\n",
      "Epoch 271/500\n",
      "308/308 [==============================] - 6s 20ms/step - loss: 0.1023 - accuracy: 0.9609 - val_loss: 0.3299 - val_accuracy: 0.8819\n",
      "Epoch 272/500\n",
      "308/308 [==============================] - 6s 20ms/step - loss: 0.0964 - accuracy: 0.9624 - val_loss: 0.3277 - val_accuracy: 0.8872\n",
      "Epoch 273/500\n",
      "308/308 [==============================] - 6s 18ms/step - loss: 0.1059 - accuracy: 0.9590 - val_loss: 0.3275 - val_accuracy: 0.8880\n",
      "Epoch 274/500\n",
      "308/308 [==============================] - 5s 16ms/step - loss: 0.1126 - accuracy: 0.9570 - val_loss: 0.3268 - val_accuracy: 0.8863\n",
      "Epoch 275/500\n",
      "308/308 [==============================] - 5s 16ms/step - loss: 0.1089 - accuracy: 0.9568 - val_loss: 0.3273 - val_accuracy: 0.8845\n",
      "Epoch 276/500\n",
      "308/308 [==============================] - 5s 17ms/step - loss: 0.1040 - accuracy: 0.9583 - val_loss: 0.3281 - val_accuracy: 0.8845\n",
      "Epoch 277/500\n",
      "308/308 [==============================] - 5s 16ms/step - loss: 0.1022 - accuracy: 0.9601 - val_loss: 0.3296 - val_accuracy: 0.8872\n",
      "Epoch 278/500\n",
      "308/308 [==============================] - 5s 16ms/step - loss: 0.1111 - accuracy: 0.9583 - val_loss: 0.3295 - val_accuracy: 0.8837\n",
      "Epoch 279/500\n",
      "308/308 [==============================] - 5s 17ms/step - loss: 0.0998 - accuracy: 0.9659 - val_loss: 0.3302 - val_accuracy: 0.8863\n",
      "Epoch 280/500\n",
      "308/308 [==============================] - 5s 16ms/step - loss: 0.0951 - accuracy: 0.9624 - val_loss: 0.3354 - val_accuracy: 0.8819\n",
      "Epoch 281/500\n"
     ]
    },
    {
     "name": "stdout",
     "output_type": "stream",
     "text": [
      "308/308 [==============================] - 5s 16ms/step - loss: 0.0960 - accuracy: 0.9650 - val_loss: 0.3322 - val_accuracy: 0.8854\n",
      "Epoch 282/500\n",
      "308/308 [==============================] - 5s 16ms/step - loss: 0.1045 - accuracy: 0.9548 - val_loss: 0.3330 - val_accuracy: 0.8837\n",
      "Epoch 283/500\n",
      "308/308 [==============================] - 5s 17ms/step - loss: 0.0989 - accuracy: 0.9601 - val_loss: 0.3327 - val_accuracy: 0.8845\n",
      "Epoch 284/500\n",
      "308/308 [==============================] - 5s 16ms/step - loss: 0.1056 - accuracy: 0.9579 - val_loss: 0.3292 - val_accuracy: 0.8837\n",
      "Epoch 285/500\n",
      "308/308 [==============================] - 5s 16ms/step - loss: 0.0978 - accuracy: 0.9611 - val_loss: 0.3283 - val_accuracy: 0.8837\n",
      "Epoch 286/500\n",
      "308/308 [==============================] - 5s 17ms/step - loss: 0.0928 - accuracy: 0.9670 - val_loss: 0.3331 - val_accuracy: 0.8854\n",
      "Epoch 287/500\n",
      "308/308 [==============================] - 5s 16ms/step - loss: 0.0979 - accuracy: 0.9640 - val_loss: 0.3328 - val_accuracy: 0.8793\n",
      "Epoch 288/500\n",
      "308/308 [==============================] - 5s 16ms/step - loss: 0.1046 - accuracy: 0.9553 - val_loss: 0.3318 - val_accuracy: 0.8837\n",
      "Epoch 289/500\n",
      "308/308 [==============================] - 5s 17ms/step - loss: 0.0976 - accuracy: 0.9616 - val_loss: 0.3318 - val_accuracy: 0.8845\n",
      "Epoch 290/500\n",
      "308/308 [==============================] - 5s 16ms/step - loss: 0.0981 - accuracy: 0.9622 - val_loss: 0.3320 - val_accuracy: 0.8828\n",
      "Epoch 291/500\n",
      "308/308 [==============================] - 5s 16ms/step - loss: 0.0996 - accuracy: 0.9614 - val_loss: 0.3315 - val_accuracy: 0.8845\n",
      "Epoch 292/500\n",
      "308/308 [==============================] - 5s 17ms/step - loss: 0.0955 - accuracy: 0.9633 - val_loss: 0.3338 - val_accuracy: 0.8845\n",
      "Epoch 293/500\n",
      "308/308 [==============================] - 5s 16ms/step - loss: 0.0933 - accuracy: 0.9620 - val_loss: 0.3364 - val_accuracy: 0.8837\n",
      "Epoch 294/500\n",
      "308/308 [==============================] - 5s 16ms/step - loss: 0.0998 - accuracy: 0.9642 - val_loss: 0.3348 - val_accuracy: 0.8845\n",
      "Epoch 295/500\n",
      "308/308 [==============================] - 5s 17ms/step - loss: 0.0901 - accuracy: 0.9646 - val_loss: 0.3353 - val_accuracy: 0.8819\n",
      "Epoch 296/500\n",
      "308/308 [==============================] - 5s 16ms/step - loss: 0.0970 - accuracy: 0.9609 - val_loss: 0.3338 - val_accuracy: 0.8880\n",
      "Epoch 297/500\n",
      "308/308 [==============================] - 5s 16ms/step - loss: 0.1028 - accuracy: 0.9570 - val_loss: 0.3331 - val_accuracy: 0.8906\n",
      "Epoch 298/500\n",
      "308/308 [==============================] - 5s 16ms/step - loss: 0.0935 - accuracy: 0.9622 - val_loss: 0.3343 - val_accuracy: 0.8880\n",
      "Epoch 299/500\n",
      "308/308 [==============================] - 5s 16ms/step - loss: 0.0955 - accuracy: 0.9629 - val_loss: 0.3375 - val_accuracy: 0.8854\n",
      "Epoch 300/500\n",
      "308/308 [==============================] - 5s 16ms/step - loss: 0.0936 - accuracy: 0.9611 - val_loss: 0.3310 - val_accuracy: 0.8880\n",
      "Epoch 301/500\n",
      "308/308 [==============================] - 5s 16ms/step - loss: 0.0909 - accuracy: 0.9637 - val_loss: 0.3344 - val_accuracy: 0.8889\n",
      "Epoch 302/500\n",
      "308/308 [==============================] - 5s 17ms/step - loss: 0.0850 - accuracy: 0.9683 - val_loss: 0.3387 - val_accuracy: 0.8863\n",
      "Epoch 303/500\n",
      "308/308 [==============================] - 5s 16ms/step - loss: 0.0929 - accuracy: 0.9622 - val_loss: 0.3397 - val_accuracy: 0.8880\n",
      "Epoch 304/500\n",
      "308/308 [==============================] - 5s 16ms/step - loss: 0.0872 - accuracy: 0.9672 - val_loss: 0.3379 - val_accuracy: 0.8880\n",
      "Epoch 305/500\n",
      "308/308 [==============================] - 5s 17ms/step - loss: 0.1010 - accuracy: 0.9585 - val_loss: 0.3372 - val_accuracy: 0.8889\n",
      "Epoch 306/500\n",
      "308/308 [==============================] - 5s 16ms/step - loss: 0.0924 - accuracy: 0.9668 - val_loss: 0.3387 - val_accuracy: 0.8854\n",
      "Epoch 307/500\n",
      "308/308 [==============================] - 5s 16ms/step - loss: 0.0938 - accuracy: 0.9642 - val_loss: 0.3425 - val_accuracy: 0.8880\n",
      "Epoch 308/500\n",
      "308/308 [==============================] - 5s 17ms/step - loss: 0.0911 - accuracy: 0.9661 - val_loss: 0.3419 - val_accuracy: 0.8837\n",
      "Epoch 309/500\n",
      "308/308 [==============================] - 5s 16ms/step - loss: 0.0918 - accuracy: 0.9661 - val_loss: 0.3437 - val_accuracy: 0.8863\n",
      "Epoch 310/500\n",
      "308/308 [==============================] - 5s 16ms/step - loss: 0.0917 - accuracy: 0.9653 - val_loss: 0.3437 - val_accuracy: 0.8854\n",
      "Epoch 311/500\n",
      "308/308 [==============================] - 5s 16ms/step - loss: 0.0901 - accuracy: 0.9627 - val_loss: 0.3440 - val_accuracy: 0.8845\n",
      "Epoch 312/500\n",
      "308/308 [==============================] - 5s 16ms/step - loss: 0.0942 - accuracy: 0.9629 - val_loss: 0.3414 - val_accuracy: 0.8872\n",
      "Epoch 313/500\n",
      "308/308 [==============================] - 5s 16ms/step - loss: 0.0971 - accuracy: 0.9601 - val_loss: 0.3433 - val_accuracy: 0.8880\n",
      "Epoch 314/500\n",
      "308/308 [==============================] - 5s 16ms/step - loss: 0.0947 - accuracy: 0.9640 - val_loss: 0.3434 - val_accuracy: 0.8880\n",
      "Epoch 315/500\n",
      "308/308 [==============================] - 5s 16ms/step - loss: 0.0926 - accuracy: 0.9677 - val_loss: 0.3441 - val_accuracy: 0.8872\n",
      "Epoch 316/500\n",
      "308/308 [==============================] - 5s 16ms/step - loss: 0.0898 - accuracy: 0.9650 - val_loss: 0.3460 - val_accuracy: 0.8837\n",
      "Epoch 317/500\n",
      "308/308 [==============================] - 5s 16ms/step - loss: 0.0898 - accuracy: 0.9642 - val_loss: 0.3426 - val_accuracy: 0.8828\n",
      "Epoch 318/500\n",
      "308/308 [==============================] - 5s 17ms/step - loss: 0.0875 - accuracy: 0.9679 - val_loss: 0.3395 - val_accuracy: 0.8863\n",
      "Epoch 319/500\n",
      "308/308 [==============================] - 5s 16ms/step - loss: 0.0850 - accuracy: 0.9659 - val_loss: 0.3408 - val_accuracy: 0.8863\n",
      "Epoch 320/500\n",
      "308/308 [==============================] - 5s 16ms/step - loss: 0.0936 - accuracy: 0.9663 - val_loss: 0.3408 - val_accuracy: 0.8837\n",
      "Epoch 321/500\n",
      "308/308 [==============================] - 5s 17ms/step - loss: 0.0874 - accuracy: 0.9683 - val_loss: 0.3410 - val_accuracy: 0.8872\n",
      "Epoch 322/500\n",
      "308/308 [==============================] - 5s 16ms/step - loss: 0.0824 - accuracy: 0.9683 - val_loss: 0.3375 - val_accuracy: 0.8863\n",
      "Epoch 323/500\n",
      "308/308 [==============================] - 5s 16ms/step - loss: 0.0964 - accuracy: 0.9627 - val_loss: 0.3402 - val_accuracy: 0.8854\n",
      "Epoch 324/500\n",
      "308/308 [==============================] - 5s 17ms/step - loss: 0.0981 - accuracy: 0.9622 - val_loss: 0.3389 - val_accuracy: 0.8837\n",
      "Epoch 325/500\n",
      "308/308 [==============================] - 5s 16ms/step - loss: 0.0897 - accuracy: 0.9644 - val_loss: 0.3399 - val_accuracy: 0.8845\n",
      "Epoch 326/500\n",
      "308/308 [==============================] - 5s 16ms/step - loss: 0.0880 - accuracy: 0.9677 - val_loss: 0.3433 - val_accuracy: 0.8863\n",
      "Epoch 327/500\n",
      "308/308 [==============================] - 5s 16ms/step - loss: 0.0876 - accuracy: 0.9674 - val_loss: 0.3432 - val_accuracy: 0.8819\n",
      "Epoch 328/500\n",
      "308/308 [==============================] - 5s 16ms/step - loss: 0.0978 - accuracy: 0.9622 - val_loss: 0.3411 - val_accuracy: 0.8845\n",
      "Epoch 329/500\n",
      "308/308 [==============================] - 5s 16ms/step - loss: 0.0932 - accuracy: 0.9627 - val_loss: 0.3434 - val_accuracy: 0.8845\n",
      "Epoch 330/500\n",
      "308/308 [==============================] - 5s 16ms/step - loss: 0.0913 - accuracy: 0.9644 - val_loss: 0.3441 - val_accuracy: 0.8854\n",
      "Epoch 331/500\n",
      "308/308 [==============================] - 5s 17ms/step - loss: 0.0939 - accuracy: 0.9642 - val_loss: 0.3426 - val_accuracy: 0.8837\n",
      "Epoch 332/500\n",
      "308/308 [==============================] - 5s 16ms/step - loss: 0.0995 - accuracy: 0.9609 - val_loss: 0.3404 - val_accuracy: 0.8845\n",
      "Epoch 333/500\n",
      "308/308 [==============================] - 5s 16ms/step - loss: 0.0944 - accuracy: 0.9605 - val_loss: 0.3388 - val_accuracy: 0.8819\n",
      "Epoch 334/500\n",
      "308/308 [==============================] - 5s 17ms/step - loss: 0.0876 - accuracy: 0.9653 - val_loss: 0.3402 - val_accuracy: 0.8845\n",
      "Epoch 335/500\n",
      "308/308 [==============================] - 5s 16ms/step - loss: 0.0856 - accuracy: 0.9670 - val_loss: 0.3392 - val_accuracy: 0.8854\n",
      "Epoch 336/500\n",
      "308/308 [==============================] - 5s 16ms/step - loss: 0.0887 - accuracy: 0.9670 - val_loss: 0.3377 - val_accuracy: 0.8863\n",
      "Epoch 337/500\n"
     ]
    },
    {
     "name": "stdout",
     "output_type": "stream",
     "text": [
      "308/308 [==============================] - 5s 17ms/step - loss: 0.0833 - accuracy: 0.9687 - val_loss: 0.3417 - val_accuracy: 0.8837\n",
      "Epoch 338/500\n",
      "308/308 [==============================] - 5s 16ms/step - loss: 0.0845 - accuracy: 0.9681 - val_loss: 0.3422 - val_accuracy: 0.8880\n",
      "Epoch 339/500\n",
      "308/308 [==============================] - 5s 16ms/step - loss: 0.0965 - accuracy: 0.9640 - val_loss: 0.3386 - val_accuracy: 0.8854\n",
      "Epoch 340/500\n",
      "308/308 [==============================] - 5s 16ms/step - loss: 0.0878 - accuracy: 0.9631 - val_loss: 0.3386 - val_accuracy: 0.8845\n",
      "Epoch 341/500\n",
      "308/308 [==============================] - 5s 16ms/step - loss: 0.0916 - accuracy: 0.9637 - val_loss: 0.3390 - val_accuracy: 0.8880\n",
      "Epoch 342/500\n",
      "308/308 [==============================] - 5s 16ms/step - loss: 0.0900 - accuracy: 0.9657 - val_loss: 0.3437 - val_accuracy: 0.8837\n",
      "Epoch 343/500\n",
      "308/308 [==============================] - 5s 16ms/step - loss: 0.0847 - accuracy: 0.9670 - val_loss: 0.3474 - val_accuracy: 0.8872\n",
      "Epoch 344/500\n",
      "308/308 [==============================] - 5s 17ms/step - loss: 0.0844 - accuracy: 0.9690 - val_loss: 0.3467 - val_accuracy: 0.8845\n",
      "Epoch 345/500\n",
      "308/308 [==============================] - 5s 16ms/step - loss: 0.0911 - accuracy: 0.9648 - val_loss: 0.3437 - val_accuracy: 0.8845\n",
      "Epoch 346/500\n",
      "308/308 [==============================] - 5s 16ms/step - loss: 0.0908 - accuracy: 0.9640 - val_loss: 0.3451 - val_accuracy: 0.8872\n",
      "Epoch 347/500\n",
      "308/308 [==============================] - 5s 17ms/step - loss: 0.0971 - accuracy: 0.9633 - val_loss: 0.3489 - val_accuracy: 0.8837\n",
      "Epoch 348/500\n",
      "308/308 [==============================] - 5s 16ms/step - loss: 0.0962 - accuracy: 0.9644 - val_loss: 0.3436 - val_accuracy: 0.8872\n",
      "Epoch 349/500\n",
      "308/308 [==============================] - 6s 20ms/step - loss: 0.0947 - accuracy: 0.9622 - val_loss: 0.3438 - val_accuracy: 0.8845\n",
      "Epoch 350/500\n",
      "308/308 [==============================] - 6s 19ms/step - loss: 0.0836 - accuracy: 0.9679 - val_loss: 0.3436 - val_accuracy: 0.8872\n",
      "Epoch 351/500\n",
      "308/308 [==============================] - 5s 18ms/step - loss: 0.0817 - accuracy: 0.9687 - val_loss: 0.3498 - val_accuracy: 0.8828\n",
      "Epoch 352/500\n",
      "308/308 [==============================] - 5s 17ms/step - loss: 0.0801 - accuracy: 0.9694 - val_loss: 0.3491 - val_accuracy: 0.8828\n",
      "Epoch 353/500\n",
      "308/308 [==============================] - 6s 18ms/step - loss: 0.0824 - accuracy: 0.9681 - val_loss: 0.3485 - val_accuracy: 0.8828\n",
      "Epoch 354/500\n",
      "308/308 [==============================] - 5s 17ms/step - loss: 0.0823 - accuracy: 0.9696 - val_loss: 0.3448 - val_accuracy: 0.8828\n",
      "Epoch 355/500\n",
      "308/308 [==============================] - 7s 22ms/step - loss: 0.0863 - accuracy: 0.9683 - val_loss: 0.3482 - val_accuracy: 0.8802\n",
      "Epoch 356/500\n",
      "308/308 [==============================] - 7s 22ms/step - loss: 0.0852 - accuracy: 0.9657 - val_loss: 0.3436 - val_accuracy: 0.8819\n",
      "Epoch 357/500\n",
      "308/308 [==============================] - 6s 21ms/step - loss: 0.0921 - accuracy: 0.9646 - val_loss: 0.3447 - val_accuracy: 0.8837\n",
      "Epoch 358/500\n",
      "308/308 [==============================] - 6s 18ms/step - loss: 0.0811 - accuracy: 0.9690 - val_loss: 0.3467 - val_accuracy: 0.8828\n",
      "Epoch 359/500\n",
      "308/308 [==============================] - 7s 21ms/step - loss: 0.0869 - accuracy: 0.9685 - val_loss: 0.3447 - val_accuracy: 0.8872\n",
      "Epoch 360/500\n",
      "308/308 [==============================] - 8s 25ms/step - loss: 0.0786 - accuracy: 0.9683 - val_loss: 0.3487 - val_accuracy: 0.8845\n",
      "Epoch 361/500\n",
      "308/308 [==============================] - 7s 23ms/step - loss: 0.0709 - accuracy: 0.9742 - val_loss: 0.3471 - val_accuracy: 0.8872\n",
      "Epoch 362/500\n",
      "308/308 [==============================] - 6s 21ms/step - loss: 0.0791 - accuracy: 0.9698 - val_loss: 0.3468 - val_accuracy: 0.8880\n",
      "Epoch 363/500\n",
      "308/308 [==============================] - 7s 22ms/step - loss: 0.0805 - accuracy: 0.9674 - val_loss: 0.3517 - val_accuracy: 0.8872\n",
      "Epoch 364/500\n",
      "308/308 [==============================] - 6s 21ms/step - loss: 0.0822 - accuracy: 0.9692 - val_loss: 0.3515 - val_accuracy: 0.8880\n",
      "Epoch 365/500\n",
      "308/308 [==============================] - 7s 23ms/step - loss: 0.0865 - accuracy: 0.9640 - val_loss: 0.3553 - val_accuracy: 0.8872\n",
      "Epoch 366/500\n",
      "308/308 [==============================] - 7s 21ms/step - loss: 0.0819 - accuracy: 0.9685 - val_loss: 0.3576 - val_accuracy: 0.8872\n",
      "Epoch 367/500\n",
      "308/308 [==============================] - 7s 22ms/step - loss: 0.0893 - accuracy: 0.9683 - val_loss: 0.3515 - val_accuracy: 0.8837\n",
      "Epoch 368/500\n",
      "308/308 [==============================] - 7s 22ms/step - loss: 0.0846 - accuracy: 0.9687 - val_loss: 0.3487 - val_accuracy: 0.8898\n",
      "Epoch 369/500\n",
      "308/308 [==============================] - 6s 19ms/step - loss: 0.0835 - accuracy: 0.9683 - val_loss: 0.3481 - val_accuracy: 0.8880\n",
      "Epoch 370/500\n",
      "308/308 [==============================] - 7s 23ms/step - loss: 0.0839 - accuracy: 0.9687 - val_loss: 0.3514 - val_accuracy: 0.8845\n",
      "Epoch 371/500\n",
      "308/308 [==============================] - 6s 20ms/step - loss: 0.0799 - accuracy: 0.9696 - val_loss: 0.3504 - val_accuracy: 0.8898\n",
      "Epoch 372/500\n",
      "308/308 [==============================] - 7s 22ms/step - loss: 0.0804 - accuracy: 0.9694 - val_loss: 0.3522 - val_accuracy: 0.8872\n",
      "Epoch 373/500\n",
      "308/308 [==============================] - 6s 20ms/step - loss: 0.0807 - accuracy: 0.9674 - val_loss: 0.3498 - val_accuracy: 0.8889\n",
      "Epoch 374/500\n",
      "308/308 [==============================] - 6s 18ms/step - loss: 0.0845 - accuracy: 0.9690 - val_loss: 0.3482 - val_accuracy: 0.8872\n",
      "Epoch 375/500\n",
      "308/308 [==============================] - 7s 24ms/step - loss: 0.0784 - accuracy: 0.9685 - val_loss: 0.3490 - val_accuracy: 0.8872\n",
      "Epoch 376/500\n",
      "308/308 [==============================] - 6s 20ms/step - loss: 0.0782 - accuracy: 0.9687 - val_loss: 0.3461 - val_accuracy: 0.8880\n",
      "Epoch 377/500\n",
      "308/308 [==============================] - 6s 21ms/step - loss: 0.0753 - accuracy: 0.9687 - val_loss: 0.3494 - val_accuracy: 0.8872\n",
      "Epoch 378/500\n",
      "308/308 [==============================] - 6s 20ms/step - loss: 0.0860 - accuracy: 0.9674 - val_loss: 0.3509 - val_accuracy: 0.8880\n",
      "Epoch 379/500\n",
      "308/308 [==============================] - 7s 21ms/step - loss: 0.0844 - accuracy: 0.9657 - val_loss: 0.3448 - val_accuracy: 0.8845\n",
      "Epoch 380/500\n",
      "308/308 [==============================] - 7s 23ms/step - loss: 0.0753 - accuracy: 0.9700 - val_loss: 0.3468 - val_accuracy: 0.8872\n",
      "Epoch 381/500\n",
      "308/308 [==============================] - 7s 22ms/step - loss: 0.0775 - accuracy: 0.9705 - val_loss: 0.3476 - val_accuracy: 0.8863\n",
      "Epoch 382/500\n",
      "308/308 [==============================] - 7s 24ms/step - loss: 0.0819 - accuracy: 0.9707 - val_loss: 0.3480 - val_accuracy: 0.8880\n",
      "Epoch 383/500\n",
      "308/308 [==============================] - 7s 23ms/step - loss: 0.0738 - accuracy: 0.9709 - val_loss: 0.3478 - val_accuracy: 0.8863\n",
      "Epoch 384/500\n",
      "308/308 [==============================] - 7s 23ms/step - loss: 0.0771 - accuracy: 0.9705 - val_loss: 0.3535 - val_accuracy: 0.8872\n",
      "Epoch 385/500\n",
      "308/308 [==============================] - 7s 24ms/step - loss: 0.0817 - accuracy: 0.9694 - val_loss: 0.3543 - val_accuracy: 0.8828\n",
      "Epoch 386/500\n",
      "308/308 [==============================] - 8s 26ms/step - loss: 0.0753 - accuracy: 0.9713 - val_loss: 0.3573 - val_accuracy: 0.8845\n",
      "Epoch 387/500\n",
      "308/308 [==============================] - 10s 33ms/step - loss: 0.0802 - accuracy: 0.9694 - val_loss: 0.3566 - val_accuracy: 0.8845\n",
      "Epoch 388/500\n",
      "308/308 [==============================] - 9s 28ms/step - loss: 0.0728 - accuracy: 0.9735 - val_loss: 0.3556 - val_accuracy: 0.8863\n",
      "Epoch 389/500\n",
      "308/308 [==============================] - 8s 27ms/step - loss: 0.0770 - accuracy: 0.9685 - val_loss: 0.3539 - val_accuracy: 0.8863\n",
      "Epoch 390/500\n",
      "308/308 [==============================] - 8s 27ms/step - loss: 0.0773 - accuracy: 0.9700 - val_loss: 0.3560 - val_accuracy: 0.8845\n",
      "Epoch 391/500\n",
      "308/308 [==============================] - 8s 26ms/step - loss: 0.0887 - accuracy: 0.9672 - val_loss: 0.3548 - val_accuracy: 0.8872\n",
      "Epoch 392/500\n",
      "308/308 [==============================] - 9s 28ms/step - loss: 0.0801 - accuracy: 0.9698 - val_loss: 0.3535 - val_accuracy: 0.8880\n",
      "Epoch 393/500\n"
     ]
    },
    {
     "name": "stdout",
     "output_type": "stream",
     "text": [
      "308/308 [==============================] - 8s 26ms/step - loss: 0.0723 - accuracy: 0.9707 - val_loss: 0.3541 - val_accuracy: 0.8828\n",
      "Epoch 394/500\n",
      "308/308 [==============================] - 7s 23ms/step - loss: 0.0816 - accuracy: 0.9670 - val_loss: 0.3567 - val_accuracy: 0.8837\n",
      "Epoch 395/500\n",
      "308/308 [==============================] - 7s 22ms/step - loss: 0.0701 - accuracy: 0.9737 - val_loss: 0.3523 - val_accuracy: 0.8863\n",
      "Epoch 396/500\n",
      "308/308 [==============================] - 7s 23ms/step - loss: 0.0811 - accuracy: 0.9690 - val_loss: 0.3540 - val_accuracy: 0.8811\n",
      "Epoch 397/500\n",
      "308/308 [==============================] - 7s 22ms/step - loss: 0.0747 - accuracy: 0.9703 - val_loss: 0.3607 - val_accuracy: 0.8837\n",
      "Epoch 398/500\n",
      "308/308 [==============================] - 7s 21ms/step - loss: 0.0683 - accuracy: 0.9742 - val_loss: 0.3588 - val_accuracy: 0.8889\n",
      "Epoch 399/500\n",
      "308/308 [==============================] - 7s 23ms/step - loss: 0.0790 - accuracy: 0.9718 - val_loss: 0.3598 - val_accuracy: 0.8880\n",
      "Epoch 400/500\n",
      "308/308 [==============================] - 6s 21ms/step - loss: 0.0788 - accuracy: 0.9700 - val_loss: 0.3608 - val_accuracy: 0.8854\n",
      "Epoch 401/500\n",
      "308/308 [==============================] - 7s 24ms/step - loss: 0.0705 - accuracy: 0.9752 - val_loss: 0.3616 - val_accuracy: 0.8863\n",
      "Epoch 402/500\n",
      "308/308 [==============================] - 7s 22ms/step - loss: 0.0821 - accuracy: 0.9679 - val_loss: 0.3612 - val_accuracy: 0.8854\n",
      "Epoch 403/500\n",
      "308/308 [==============================] - 7s 23ms/step - loss: 0.0865 - accuracy: 0.9668 - val_loss: 0.3556 - val_accuracy: 0.8863\n",
      "Epoch 404/500\n",
      "308/308 [==============================] - 7s 22ms/step - loss: 0.0758 - accuracy: 0.9709 - val_loss: 0.3538 - val_accuracy: 0.8854\n",
      "Epoch 405/500\n",
      "308/308 [==============================] - 7s 23ms/step - loss: 0.0819 - accuracy: 0.9661 - val_loss: 0.3557 - val_accuracy: 0.8828\n",
      "Epoch 406/500\n",
      "308/308 [==============================] - 7s 22ms/step - loss: 0.0695 - accuracy: 0.9737 - val_loss: 0.3580 - val_accuracy: 0.8854\n",
      "Epoch 407/500\n",
      "308/308 [==============================] - 7s 24ms/step - loss: 0.0745 - accuracy: 0.9716 - val_loss: 0.3517 - val_accuracy: 0.8872\n",
      "Epoch 408/500\n",
      "308/308 [==============================] - 8s 27ms/step - loss: 0.0768 - accuracy: 0.9739 - val_loss: 0.3531 - val_accuracy: 0.8845\n",
      "Epoch 409/500\n",
      "308/308 [==============================] - 7s 23ms/step - loss: 0.0738 - accuracy: 0.9718 - val_loss: 0.3555 - val_accuracy: 0.8854\n",
      "Epoch 410/500\n",
      "308/308 [==============================] - 7s 23ms/step - loss: 0.0791 - accuracy: 0.9705 - val_loss: 0.3562 - val_accuracy: 0.8819\n",
      "Epoch 411/500\n",
      "308/308 [==============================] - 7s 24ms/step - loss: 0.0681 - accuracy: 0.9716 - val_loss: 0.3562 - val_accuracy: 0.8872\n",
      "Epoch 412/500\n",
      "308/308 [==============================] - 7s 22ms/step - loss: 0.0735 - accuracy: 0.9729 - val_loss: 0.3606 - val_accuracy: 0.8845\n",
      "Epoch 413/500\n",
      "308/308 [==============================] - 7s 22ms/step - loss: 0.0717 - accuracy: 0.9720 - val_loss: 0.3628 - val_accuracy: 0.8845\n",
      "Epoch 414/500\n",
      "308/308 [==============================] - 7s 24ms/step - loss: 0.0811 - accuracy: 0.9692 - val_loss: 0.3613 - val_accuracy: 0.8872\n",
      "Epoch 415/500\n",
      "308/308 [==============================] - 9s 29ms/step - loss: 0.0779 - accuracy: 0.9731 - val_loss: 0.3601 - val_accuracy: 0.8872\n",
      "Epoch 416/500\n",
      "308/308 [==============================] - 8s 26ms/step - loss: 0.0797 - accuracy: 0.9711 - val_loss: 0.3569 - val_accuracy: 0.8906\n",
      "Epoch 417/500\n",
      "308/308 [==============================] - 8s 25ms/step - loss: 0.0727 - accuracy: 0.9735 - val_loss: 0.3556 - val_accuracy: 0.8906\n",
      "Epoch 418/500\n",
      "308/308 [==============================] - 7s 23ms/step - loss: 0.0714 - accuracy: 0.9726 - val_loss: 0.3545 - val_accuracy: 0.8906\n",
      "Epoch 419/500\n",
      "308/308 [==============================] - 8s 27ms/step - loss: 0.0707 - accuracy: 0.9755 - val_loss: 0.3562 - val_accuracy: 0.8889\n",
      "Epoch 420/500\n",
      "308/308 [==============================] - 7s 24ms/step - loss: 0.0659 - accuracy: 0.9735 - val_loss: 0.3599 - val_accuracy: 0.8898\n",
      "Epoch 421/500\n",
      "308/308 [==============================] - 7s 22ms/step - loss: 0.0751 - accuracy: 0.9720 - val_loss: 0.3616 - val_accuracy: 0.8898\n",
      "Epoch 422/500\n",
      "308/308 [==============================] - 7s 22ms/step - loss: 0.0768 - accuracy: 0.9713 - val_loss: 0.3605 - val_accuracy: 0.8863\n",
      "Epoch 423/500\n",
      "308/308 [==============================] - 7s 23ms/step - loss: 0.0684 - accuracy: 0.9722 - val_loss: 0.3631 - val_accuracy: 0.8863\n",
      "Epoch 424/500\n",
      "308/308 [==============================] - 6s 18ms/step - loss: 0.0754 - accuracy: 0.9696 - val_loss: 0.3644 - val_accuracy: 0.8854\n",
      "Epoch 425/500\n",
      "308/308 [==============================] - 5s 17ms/step - loss: 0.0702 - accuracy: 0.9742 - val_loss: 0.3594 - val_accuracy: 0.8854\n",
      "Epoch 426/500\n",
      "308/308 [==============================] - 5s 17ms/step - loss: 0.0696 - accuracy: 0.9729 - val_loss: 0.3625 - val_accuracy: 0.8854\n",
      "Epoch 427/500\n",
      "308/308 [==============================] - 5s 17ms/step - loss: 0.0758 - accuracy: 0.9707 - val_loss: 0.3615 - val_accuracy: 0.8880\n",
      "Epoch 428/500\n",
      "308/308 [==============================] - 5s 18ms/step - loss: 0.0774 - accuracy: 0.9722 - val_loss: 0.3612 - val_accuracy: 0.8872\n",
      "Epoch 429/500\n",
      "308/308 [==============================] - 6s 19ms/step - loss: 0.0735 - accuracy: 0.9744 - val_loss: 0.3581 - val_accuracy: 0.8889\n",
      "Epoch 430/500\n",
      "308/308 [==============================] - 5s 17ms/step - loss: 0.0827 - accuracy: 0.9685 - val_loss: 0.3658 - val_accuracy: 0.8811\n",
      "Epoch 431/500\n",
      "308/308 [==============================] - 5s 17ms/step - loss: 0.0742 - accuracy: 0.9729 - val_loss: 0.3630 - val_accuracy: 0.8872\n",
      "Epoch 432/500\n",
      "308/308 [==============================] - 6s 20ms/step - loss: 0.0710 - accuracy: 0.9746 - val_loss: 0.3626 - val_accuracy: 0.8811\n",
      "Epoch 433/500\n",
      "308/308 [==============================] - 5s 16ms/step - loss: 0.0626 - accuracy: 0.9776 - val_loss: 0.3626 - val_accuracy: 0.8863\n",
      "Epoch 434/500\n",
      "308/308 [==============================] - 5s 17ms/step - loss: 0.0710 - accuracy: 0.9716 - val_loss: 0.3655 - val_accuracy: 0.8845\n",
      "Epoch 435/500\n",
      "308/308 [==============================] - 5s 17ms/step - loss: 0.0714 - accuracy: 0.9742 - val_loss: 0.3646 - val_accuracy: 0.8837\n",
      "Epoch 436/500\n",
      "308/308 [==============================] - 5s 17ms/step - loss: 0.0704 - accuracy: 0.9692 - val_loss: 0.3667 - val_accuracy: 0.8854\n",
      "Epoch 437/500\n",
      "308/308 [==============================] - 5s 16ms/step - loss: 0.0679 - accuracy: 0.9752 - val_loss: 0.3649 - val_accuracy: 0.8898\n",
      "Epoch 438/500\n",
      "308/308 [==============================] - 5s 17ms/step - loss: 0.0713 - accuracy: 0.9752 - val_loss: 0.3639 - val_accuracy: 0.8863\n",
      "Epoch 439/500\n",
      "308/308 [==============================] - 6s 19ms/step - loss: 0.0703 - accuracy: 0.9713 - val_loss: 0.3630 - val_accuracy: 0.8915\n",
      "Epoch 440/500\n",
      "308/308 [==============================] - 5s 18ms/step - loss: 0.0630 - accuracy: 0.9785 - val_loss: 0.3646 - val_accuracy: 0.8880\n",
      "Epoch 441/500\n",
      "308/308 [==============================] - 7s 22ms/step - loss: 0.0704 - accuracy: 0.9744 - val_loss: 0.3637 - val_accuracy: 0.8872\n",
      "Epoch 442/500\n",
      "308/308 [==============================] - 6s 20ms/step - loss: 0.0695 - accuracy: 0.9744 - val_loss: 0.3638 - val_accuracy: 0.8854\n",
      "Epoch 443/500\n",
      "308/308 [==============================] - 6s 20ms/step - loss: 0.0756 - accuracy: 0.9744 - val_loss: 0.3658 - val_accuracy: 0.8863\n",
      "Epoch 444/500\n",
      "308/308 [==============================] - 7s 23ms/step - loss: 0.0708 - accuracy: 0.9707 - val_loss: 0.3674 - val_accuracy: 0.8819\n",
      "Epoch 445/500\n",
      "308/308 [==============================] - 7s 23ms/step - loss: 0.0730 - accuracy: 0.9709 - val_loss: 0.3635 - val_accuracy: 0.8828\n",
      "Epoch 446/500\n",
      "308/308 [==============================] - 6s 18ms/step - loss: 0.0641 - accuracy: 0.9761 - val_loss: 0.3643 - val_accuracy: 0.8845\n",
      "Epoch 447/500\n",
      "308/308 [==============================] - 5s 16ms/step - loss: 0.0677 - accuracy: 0.9731 - val_loss: 0.3665 - val_accuracy: 0.8854\n",
      "Epoch 448/500\n",
      "308/308 [==============================] - 5s 17ms/step - loss: 0.0668 - accuracy: 0.9752 - val_loss: 0.3708 - val_accuracy: 0.8837\n",
      "Epoch 449/500\n"
     ]
    },
    {
     "name": "stdout",
     "output_type": "stream",
     "text": [
      "308/308 [==============================] - 5s 17ms/step - loss: 0.0672 - accuracy: 0.9755 - val_loss: 0.3691 - val_accuracy: 0.8854\n",
      "Epoch 450/500\n",
      "308/308 [==============================] - 5s 17ms/step - loss: 0.0672 - accuracy: 0.9761 - val_loss: 0.3723 - val_accuracy: 0.8837\n",
      "Epoch 451/500\n",
      "308/308 [==============================] - 7s 22ms/step - loss: 0.0675 - accuracy: 0.9729 - val_loss: 0.3724 - val_accuracy: 0.8828\n",
      "Epoch 452/500\n",
      "308/308 [==============================] - 7s 22ms/step - loss: 0.0643 - accuracy: 0.9770 - val_loss: 0.3724 - val_accuracy: 0.8854\n",
      "Epoch 453/500\n",
      "308/308 [==============================] - 7s 23ms/step - loss: 0.0747 - accuracy: 0.9709 - val_loss: 0.3685 - val_accuracy: 0.8854\n",
      "Epoch 454/500\n",
      "308/308 [==============================] - 6s 19ms/step - loss: 0.0678 - accuracy: 0.9750 - val_loss: 0.3691 - val_accuracy: 0.8880\n",
      "Epoch 455/500\n",
      "308/308 [==============================] - 6s 18ms/step - loss: 0.0738 - accuracy: 0.9720 - val_loss: 0.3650 - val_accuracy: 0.8854\n",
      "Epoch 456/500\n",
      "308/308 [==============================] - 5s 17ms/step - loss: 0.0665 - accuracy: 0.9744 - val_loss: 0.3709 - val_accuracy: 0.8880\n",
      "Epoch 457/500\n",
      "308/308 [==============================] - 6s 21ms/step - loss: 0.0622 - accuracy: 0.9781 - val_loss: 0.3708 - val_accuracy: 0.8880\n",
      "Epoch 458/500\n",
      "308/308 [==============================] - 5s 17ms/step - loss: 0.0750 - accuracy: 0.9696 - val_loss: 0.3651 - val_accuracy: 0.8863\n",
      "Epoch 459/500\n",
      "308/308 [==============================] - 5s 17ms/step - loss: 0.0651 - accuracy: 0.9748 - val_loss: 0.3629 - val_accuracy: 0.8889\n",
      "Epoch 460/500\n",
      "308/308 [==============================] - 5s 17ms/step - loss: 0.0621 - accuracy: 0.9798 - val_loss: 0.3658 - val_accuracy: 0.8889\n",
      "Epoch 461/500\n",
      "308/308 [==============================] - 5s 17ms/step - loss: 0.0730 - accuracy: 0.9746 - val_loss: 0.3674 - val_accuracy: 0.8898\n",
      "Epoch 462/500\n",
      "308/308 [==============================] - 5s 17ms/step - loss: 0.0694 - accuracy: 0.9742 - val_loss: 0.3634 - val_accuracy: 0.8898\n",
      "Epoch 463/500\n",
      "308/308 [==============================] - 6s 18ms/step - loss: 0.0669 - accuracy: 0.9766 - val_loss: 0.3632 - val_accuracy: 0.8863\n",
      "Epoch 464/500\n",
      "308/308 [==============================] - 5s 17ms/step - loss: 0.0648 - accuracy: 0.9774 - val_loss: 0.3656 - val_accuracy: 0.8889\n",
      "Epoch 465/500\n",
      "308/308 [==============================] - 6s 19ms/step - loss: 0.0642 - accuracy: 0.9768 - val_loss: 0.3707 - val_accuracy: 0.8854\n",
      "Epoch 466/500\n",
      "308/308 [==============================] - 6s 19ms/step - loss: 0.0689 - accuracy: 0.9744 - val_loss: 0.3676 - val_accuracy: 0.8889\n",
      "Epoch 467/500\n",
      "308/308 [==============================] - 6s 18ms/step - loss: 0.0654 - accuracy: 0.9746 - val_loss: 0.3702 - val_accuracy: 0.8845\n",
      "Epoch 468/500\n",
      "308/308 [==============================] - 5s 17ms/step - loss: 0.0647 - accuracy: 0.9766 - val_loss: 0.3690 - val_accuracy: 0.8880\n",
      "Epoch 469/500\n",
      "308/308 [==============================] - 5s 17ms/step - loss: 0.0597 - accuracy: 0.9763 - val_loss: 0.3684 - val_accuracy: 0.8906\n",
      "Epoch 470/500\n",
      "308/308 [==============================] - 5s 18ms/step - loss: 0.0678 - accuracy: 0.9724 - val_loss: 0.3748 - val_accuracy: 0.8880\n",
      "Epoch 471/500\n",
      "308/308 [==============================] - 6s 19ms/step - loss: 0.0635 - accuracy: 0.9781 - val_loss: 0.3728 - val_accuracy: 0.8889\n",
      "Epoch 472/500\n",
      "308/308 [==============================] - 5s 18ms/step - loss: 0.0697 - accuracy: 0.9748 - val_loss: 0.3730 - val_accuracy: 0.8854\n",
      "Epoch 473/500\n",
      "308/308 [==============================] - 6s 18ms/step - loss: 0.0612 - accuracy: 0.9770 - val_loss: 0.3706 - val_accuracy: 0.8898\n",
      "Epoch 474/500\n",
      "308/308 [==============================] - 6s 19ms/step - loss: 0.0642 - accuracy: 0.9768 - val_loss: 0.3723 - val_accuracy: 0.8906\n",
      "Epoch 475/500\n",
      "308/308 [==============================] - 6s 19ms/step - loss: 0.0605 - accuracy: 0.9789 - val_loss: 0.3749 - val_accuracy: 0.8889\n",
      "Epoch 476/500\n",
      "308/308 [==============================] - 6s 19ms/step - loss: 0.0695 - accuracy: 0.9735 - val_loss: 0.3690 - val_accuracy: 0.8898\n",
      "Epoch 477/500\n",
      "308/308 [==============================] - 7s 21ms/step - loss: 0.0694 - accuracy: 0.9737 - val_loss: 0.3652 - val_accuracy: 0.8915\n",
      "Epoch 478/500\n",
      "308/308 [==============================] - 6s 20ms/step - loss: 0.0692 - accuracy: 0.9742 - val_loss: 0.3651 - val_accuracy: 0.8880\n",
      "Epoch 479/500\n",
      "308/308 [==============================] - 6s 20ms/step - loss: 0.0705 - accuracy: 0.9742 - val_loss: 0.3643 - val_accuracy: 0.8898\n",
      "Epoch 480/500\n",
      "308/308 [==============================] - 6s 19ms/step - loss: 0.0643 - accuracy: 0.9757 - val_loss: 0.3636 - val_accuracy: 0.8880\n",
      "Epoch 481/500\n",
      "308/308 [==============================] - 6s 20ms/step - loss: 0.0752 - accuracy: 0.9705 - val_loss: 0.3659 - val_accuracy: 0.8880\n",
      "Epoch 482/500\n",
      "308/308 [==============================] - 6s 19ms/step - loss: 0.0650 - accuracy: 0.9746 - val_loss: 0.3689 - val_accuracy: 0.8845\n",
      "Epoch 483/500\n",
      "308/308 [==============================] - 5s 17ms/step - loss: 0.0582 - accuracy: 0.9783 - val_loss: 0.3682 - val_accuracy: 0.8898\n",
      "Epoch 484/500\n",
      "308/308 [==============================] - 5s 17ms/step - loss: 0.0662 - accuracy: 0.9761 - val_loss: 0.3693 - val_accuracy: 0.8906\n",
      "Epoch 485/500\n",
      "308/308 [==============================] - 6s 18ms/step - loss: 0.0683 - accuracy: 0.9755 - val_loss: 0.3702 - val_accuracy: 0.8863\n",
      "Epoch 486/500\n",
      "308/308 [==============================] - 5s 17ms/step - loss: 0.0671 - accuracy: 0.9726 - val_loss: 0.3740 - val_accuracy: 0.8880\n",
      "Epoch 487/500\n",
      "308/308 [==============================] - 5s 17ms/step - loss: 0.0698 - accuracy: 0.9744 - val_loss: 0.3693 - val_accuracy: 0.8889\n",
      "Epoch 488/500\n",
      "308/308 [==============================] - 6s 18ms/step - loss: 0.0642 - accuracy: 0.9792 - val_loss: 0.3722 - val_accuracy: 0.8872\n",
      "Epoch 489/500\n",
      "308/308 [==============================] - 5s 17ms/step - loss: 0.0630 - accuracy: 0.9768 - val_loss: 0.3647 - val_accuracy: 0.8889\n",
      "Epoch 490/500\n",
      "308/308 [==============================] - 5s 17ms/step - loss: 0.0703 - accuracy: 0.9744 - val_loss: 0.3684 - val_accuracy: 0.8863\n",
      "Epoch 491/500\n",
      "308/308 [==============================] - 6s 18ms/step - loss: 0.0672 - accuracy: 0.9770 - val_loss: 0.3679 - val_accuracy: 0.8845\n",
      "Epoch 492/500\n",
      "308/308 [==============================] - 5s 17ms/step - loss: 0.0637 - accuracy: 0.9772 - val_loss: 0.3691 - val_accuracy: 0.8863\n",
      "Epoch 493/500\n",
      "308/308 [==============================] - 5s 17ms/step - loss: 0.0606 - accuracy: 0.9776 - val_loss: 0.3753 - val_accuracy: 0.8872\n",
      "Epoch 494/500\n",
      "308/308 [==============================] - 6s 18ms/step - loss: 0.0692 - accuracy: 0.9750 - val_loss: 0.3730 - val_accuracy: 0.8828\n",
      "Epoch 495/500\n",
      "308/308 [==============================] - 5s 17ms/step - loss: 0.0633 - accuracy: 0.9761 - val_loss: 0.3700 - val_accuracy: 0.8906\n",
      "Epoch 496/500\n",
      "308/308 [==============================] - 5s 17ms/step - loss: 0.0614 - accuracy: 0.9776 - val_loss: 0.3676 - val_accuracy: 0.8863\n",
      "Epoch 497/500\n",
      "308/308 [==============================] - 6s 18ms/step - loss: 0.0544 - accuracy: 0.9815 - val_loss: 0.3670 - val_accuracy: 0.8863\n",
      "Epoch 498/500\n",
      "308/308 [==============================] - 5s 17ms/step - loss: 0.0624 - accuracy: 0.9748 - val_loss: 0.3696 - val_accuracy: 0.8863\n",
      "Epoch 499/500\n",
      "308/308 [==============================] - 5s 17ms/step - loss: 0.0570 - accuracy: 0.9802 - val_loss: 0.3728 - val_accuracy: 0.8828\n",
      "Epoch 500/500\n",
      "308/308 [==============================] - 6s 18ms/step - loss: 0.0646 - accuracy: 0.9755 - val_loss: 0.3734 - val_accuracy: 0.8837\n"
     ]
    }
   ],
   "source": [
    "history = model.fit(X_train, y_train, batch_size=15, epochs=500,\n",
    "                    validation_data=(X_test, y_test), verbose=1)"
   ]
  },
  {
   "cell_type": "code",
   "execution_count": 53,
   "id": "9ec32b43",
   "metadata": {},
   "outputs": [],
   "source": [
    "history.set_model(model)"
   ]
  },
  {
   "cell_type": "code",
   "execution_count": 60,
   "id": "c47c7998",
   "metadata": {},
   "outputs": [
    {
     "data": {
      "text/plain": [
       "(1152, 20)"
      ]
     },
     "execution_count": 60,
     "metadata": {},
     "output_type": "execute_result"
    }
   ],
   "source": [
    "X_test.shape"
   ]
  },
  {
   "cell_type": "code",
   "execution_count": 61,
   "id": "8b90b924",
   "metadata": {},
   "outputs": [],
   "source": [
    "ans = model.predict(X_test)"
   ]
  },
  {
   "cell_type": "code",
   "execution_count": 63,
   "id": "55e3381d",
   "metadata": {},
   "outputs": [],
   "source": [
    "ans = np.round(ans).astype(int).reshape(1152)"
   ]
  },
  {
   "cell_type": "code",
   "execution_count": 64,
   "id": "a96b4fe4",
   "metadata": {},
   "outputs": [
    {
     "name": "stdout",
     "output_type": "stream",
     "text": [
      "              precision    recall  f1-score   support\n",
      "\n",
      "           0       0.90      0.87      0.88       587\n",
      "           1       0.87      0.90      0.88       565\n",
      "\n",
      "    accuracy                           0.88      1152\n",
      "   macro avg       0.88      0.88      0.88      1152\n",
      "weighted avg       0.88      0.88      0.88      1152\n",
      "\n"
     ]
    }
   ],
   "source": [
    "print(classification_report(ans,y_test))"
   ]
  },
  {
   "cell_type": "code",
   "execution_count": 150,
   "id": "086782dc",
   "metadata": {},
   "outputs": [
    {
     "name": "stdout",
     "output_type": "stream",
     "text": [
      "{'verbose': 2, 'epochs': 250, 'steps': 49}\n"
     ]
    }
   ],
   "source": [
    "print(history.params)"
   ]
  },
  {
   "cell_type": "code",
   "execution_count": 68,
   "id": "85d5227c",
   "metadata": {},
   "outputs": [
    {
     "name": "stdout",
     "output_type": "stream",
     "text": [
      "96/96 [==============================] - 1s 4ms/step - loss: 0.3734 - accuracy: 0.8837\n"
     ]
    },
    {
     "data": {
      "text/plain": [
       "[0.37338706851005554, 0.8836805820465088]"
      ]
     },
     "execution_count": 68,
     "metadata": {},
     "output_type": "execute_result"
    }
   ],
   "source": [
    "model.evaluate(X_test, y_test, batch_size=12)"
   ]
  }
 ],
 "metadata": {
  "kernelspec": {
   "display_name": "Python 3 (ipykernel)",
   "language": "python",
   "name": "python3"
  },
  "language_info": {
   "codemirror_mode": {
    "name": "ipython",
    "version": 3
   },
   "file_extension": ".py",
   "mimetype": "text/x-python",
   "name": "python",
   "nbconvert_exporter": "python",
   "pygments_lexer": "ipython3",
   "version": "3.9.7"
  },
  "latex_envs": {
   "LaTeX_envs_menu_present": true,
   "autoclose": false,
   "autocomplete": true,
   "bibliofile": "biblio.bib",
   "cite_by": "apalike",
   "current_citInitial": 1,
   "eqLabelWithNumbers": true,
   "eqNumInitial": 1,
   "hotkeys": {
    "equation": "Ctrl-E",
    "itemize": "Ctrl-I"
   },
   "labels_anchors": false,
   "latex_user_defs": false,
   "report_style_numbering": false,
   "user_envs_cfg": false
  }
 },
 "nbformat": 4,
 "nbformat_minor": 5
}
